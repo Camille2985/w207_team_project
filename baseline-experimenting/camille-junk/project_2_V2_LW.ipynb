{
 "cells": [
  {
   "cell_type": "code",
   "execution_count": 3,
   "id": "4a73071f",
   "metadata": {},
   "outputs": [
    {
     "ename": "ImportError",
     "evalue": "libGL.so.1: cannot open shared object file: No such file or directory",
     "output_type": "error",
     "traceback": [
      "\u001b[0;31m---------------------------------------------------------------------------\u001b[0m",
      "\u001b[0;31mImportError\u001b[0m                               Traceback (most recent call last)",
      "Input \u001b[0;32mIn [3]\u001b[0m, in \u001b[0;36m<module>\u001b[0;34m\u001b[0m\n\u001b[0;32m----> 1\u001b[0m \u001b[38;5;28;01mimport\u001b[39;00m \u001b[38;5;21;01mcv2\u001b[39;00m\n\u001b[1;32m      2\u001b[0m \u001b[38;5;28;01mimport\u001b[39;00m \u001b[38;5;21;01mnumpy\u001b[39;00m \u001b[38;5;28;01mas\u001b[39;00m \u001b[38;5;21;01mnp\u001b[39;00m\n\u001b[1;32m      3\u001b[0m \u001b[38;5;28;01mimport\u001b[39;00m \u001b[38;5;21;01mstring\u001b[39;00m\n",
      "File \u001b[0;32m/opt/conda/envs/pycaret/lib/python3.8/site-packages/cv2/__init__.py:181\u001b[0m, in \u001b[0;36m<module>\u001b[0;34m\u001b[0m\n\u001b[1;32m    176\u001b[0m             \u001b[38;5;28;01mif\u001b[39;00m DEBUG: \u001b[38;5;28mprint\u001b[39m(\u001b[38;5;124m\"\u001b[39m\u001b[38;5;124mExtra Python code for\u001b[39m\u001b[38;5;124m\"\u001b[39m, submodule, \u001b[38;5;124m\"\u001b[39m\u001b[38;5;124mis loaded\u001b[39m\u001b[38;5;124m\"\u001b[39m)\n\u001b[1;32m    178\u001b[0m     \u001b[38;5;28;01mif\u001b[39;00m DEBUG: \u001b[38;5;28mprint\u001b[39m(\u001b[38;5;124m'\u001b[39m\u001b[38;5;124mOpenCV loader: DONE\u001b[39m\u001b[38;5;124m'\u001b[39m)\n\u001b[0;32m--> 181\u001b[0m \u001b[43mbootstrap\u001b[49m\u001b[43m(\u001b[49m\u001b[43m)\u001b[49m\n",
      "File \u001b[0;32m/opt/conda/envs/pycaret/lib/python3.8/site-packages/cv2/__init__.py:153\u001b[0m, in \u001b[0;36mbootstrap\u001b[0;34m()\u001b[0m\n\u001b[1;32m    149\u001b[0m \u001b[38;5;28;01mif\u001b[39;00m DEBUG: \u001b[38;5;28mprint\u001b[39m(\u001b[38;5;124m\"\u001b[39m\u001b[38;5;124mRelink everything from native cv2 module to cv2 package\u001b[39m\u001b[38;5;124m\"\u001b[39m)\n\u001b[1;32m    151\u001b[0m py_module \u001b[38;5;241m=\u001b[39m sys\u001b[38;5;241m.\u001b[39mmodules\u001b[38;5;241m.\u001b[39mpop(\u001b[38;5;124m\"\u001b[39m\u001b[38;5;124mcv2\u001b[39m\u001b[38;5;124m\"\u001b[39m)\n\u001b[0;32m--> 153\u001b[0m native_module \u001b[38;5;241m=\u001b[39m \u001b[43mimportlib\u001b[49m\u001b[38;5;241;43m.\u001b[39;49m\u001b[43mimport_module\u001b[49m\u001b[43m(\u001b[49m\u001b[38;5;124;43m\"\u001b[39;49m\u001b[38;5;124;43mcv2\u001b[39;49m\u001b[38;5;124;43m\"\u001b[39;49m\u001b[43m)\u001b[49m\n\u001b[1;32m    155\u001b[0m sys\u001b[38;5;241m.\u001b[39mmodules[\u001b[38;5;124m\"\u001b[39m\u001b[38;5;124mcv2\u001b[39m\u001b[38;5;124m\"\u001b[39m] \u001b[38;5;241m=\u001b[39m py_module\n\u001b[1;32m    156\u001b[0m \u001b[38;5;28msetattr\u001b[39m(py_module, \u001b[38;5;124m\"\u001b[39m\u001b[38;5;124m_native\u001b[39m\u001b[38;5;124m\"\u001b[39m, native_module)\n",
      "File \u001b[0;32m/opt/conda/envs/pycaret/lib/python3.8/importlib/__init__.py:127\u001b[0m, in \u001b[0;36mimport_module\u001b[0;34m(name, package)\u001b[0m\n\u001b[1;32m    125\u001b[0m             \u001b[38;5;28;01mbreak\u001b[39;00m\n\u001b[1;32m    126\u001b[0m         level \u001b[38;5;241m+\u001b[39m\u001b[38;5;241m=\u001b[39m \u001b[38;5;241m1\u001b[39m\n\u001b[0;32m--> 127\u001b[0m \u001b[38;5;28;01mreturn\u001b[39;00m \u001b[43m_bootstrap\u001b[49m\u001b[38;5;241;43m.\u001b[39;49m\u001b[43m_gcd_import\u001b[49m\u001b[43m(\u001b[49m\u001b[43mname\u001b[49m\u001b[43m[\u001b[49m\u001b[43mlevel\u001b[49m\u001b[43m:\u001b[49m\u001b[43m]\u001b[49m\u001b[43m,\u001b[49m\u001b[43m \u001b[49m\u001b[43mpackage\u001b[49m\u001b[43m,\u001b[49m\u001b[43m \u001b[49m\u001b[43mlevel\u001b[49m\u001b[43m)\u001b[49m\n",
      "\u001b[0;31mImportError\u001b[0m: libGL.so.1: cannot open shared object file: No such file or directory"
     ]
    }
   ],
   "source": [
    "import cv2\n",
    "import numpy as np\n",
    "import string\n",
    "import pandas as pd\n",
    "import matplotlib.pyplot as plt\n",
    "import os, time\n",
    "\n",
    "import tensorflow as tf\n",
    "tf.compat.v1.logging.set_verbosity(tf.compat.v1.logging.ERROR)\n",
    "import tensorflow.keras.backend as K\n",
    "\n",
    "from tensorflow import keras\n",
    "from tensorflow.keras import layers\n",
    "\n",
    "from tensorflow.keras.preprocessing.sequence import pad_sequences\n",
    "from tensorflow.keras.layers import Dense, Reshape, BatchNormalization, Input, Conv2D, MaxPool2D, Lambda, Bidirectional\n",
    "from tensorflow.compat.v1.keras.layers import CuDNNLSTM\n",
    "from tensorflow.keras.models import Model\n",
    "from tensorflow.keras.optimizers import *\n",
    "from tensorflow.keras.utils import to_categorical, Sequence\n",
    "from tensorflow.keras.callbacks import ModelCheckpoint, EarlyStopping\n",
    "from tensorflow.keras.preprocessing.image import ImageDataGenerator, array_to_img, img_to_array, load_img\n",
    "from tqdm import tqdm\n",
    "from collections import Counter\n",
    "from PIL import Image\n",
    "from itertools import groupby\n",
    "from tensorflow.keras import initializers\n",
    "from tensorflow.python.keras.utils.layer_utils import count_params\n",
    "\n",
    "# import wandb\n",
    "# from wandb.keras import WandbCallback"
   ]
  },
  {
   "cell_type": "code",
   "execution_count": 2,
   "id": "4c6f96b6",
   "metadata": {},
   "outputs": [
    {
     "name": "stdout",
     "output_type": "stream",
     "text": [
      "Collecting opencv-python\n",
      "  Downloading opencv_python-4.6.0.66-cp36-abi3-manylinux_2_17_x86_64.manylinux2014_x86_64.whl (60.9 MB)\n",
      "     |████████████████████████████████| 60.9 MB 22.2 MB/s            \n",
      "\u001b[?25hRequirement already satisfied: numpy>=1.14.5 in /opt/conda/envs/pycaret/lib/python3.8/site-packages (from opencv-python) (1.19.5)\n",
      "Installing collected packages: opencv-python\n",
      "Successfully installed opencv-python-4.6.0.66\n"
     ]
    }
   ],
   "source": [
    "!pip install opencv-python"
   ]
  },
  {
   "cell_type": "code",
   "execution_count": 60,
   "id": "5c73138a",
   "metadata": {},
   "outputs": [],
   "source": [
    "''''\n",
    "here in this example we need to read the text document , and use the text document to generate the path \n",
    "for the model . for all the ok startus we are going to generate the text. \n",
    "'''\n",
    "\n",
    "base_path = \"./data\"\n",
    "# words_list = []\n",
    "\n",
    "# words = open(f\"{base_path}/words.txt\", \"r\").readlines()\n",
    "\n",
    "file_path=f\"{base_path}/words.txt\"\n",
    "file_path_2=f\"{base_path}/words\"\n",
    "# file_path=\"../input/iam-handwriting-word-database/words_new.txt\"\n",
    "with open(file_path) as f:\n",
    "    lines = f.readlines()\n",
    "\n",
    "label_raw=lines[18:]\n",
    "\n",
    "image_texts =[]\n",
    "image_paths =[]\n",
    "\n",
    "default_path=file_path_2\n",
    "# default_path=\"../input/iam-handwriting-word-database/iam_words/words/\"\n",
    "for label in label_raw:\n",
    "  if label.split()[1]==\"ok\":\n",
    "    image_texts.append(label.split()[-1])\n",
    "    image_paths.append(default_path+\"/\"+label.split()[0].split(\"-\")[0]+\"/\"+label.split()[0].split(\"-\")[0]+\"-\"+label.split()[0].split(\"-\")[1]+\"/\"+label.split()[0]+\".png\")"
   ]
  },
  {
   "cell_type": "code",
   "execution_count": 61,
   "id": "7d197f65",
   "metadata": {},
   "outputs": [
    {
     "name": "stdout",
     "output_type": "stream",
     "text": [
      "Length of image_texts 96456\n",
      "Length of image_paths 96456\n"
     ]
    }
   ],
   "source": [
    "print(\"Length of image_texts\", len(image_texts))\n",
    "print(\"Length of image_paths\", len(image_paths))"
   ]
  },
  {
   "cell_type": "code",
   "execution_count": 62,
   "id": "e0b7f3fc",
   "metadata": {},
   "outputs": [
    {
     "data": {
      "text/plain": [
       "'./data/words/a01/a01-000u/a01-000u-00-00.png'"
      ]
     },
     "execution_count": 62,
     "metadata": {},
     "output_type": "execute_result"
    }
   ],
   "source": [
    "image_paths[0]"
   ]
  },
  {
   "cell_type": "markdown",
   "id": "e54b2305",
   "metadata": {},
   "source": [
    "##### sample path 'data\\\\words\\\\e04\\\\e04-030\\\\e04-030-04-08.png'"
   ]
  },
  {
   "cell_type": "code",
   "execution_count": 63,
   "id": "9328eb25",
   "metadata": {},
   "outputs": [],
   "source": [
    "corrupt_images = []\n",
    "\n",
    "for path in image_paths:\n",
    "    try:\n",
    "        img = cv2.cvtColor(cv2.imread(path), cv2.COLOR_BGR2GRAY)\n",
    "    except:\n",
    "        corrupt_images.append(path)"
   ]
  },
  {
   "cell_type": "code",
   "execution_count": 64,
   "id": "7b7753c2",
   "metadata": {},
   "outputs": [
    {
     "data": {
      "text/plain": [
       "(['./data/words/a01/a01-117/a01-117-05-02.png',\n",
       "  './data/words/r06/r06-022/r06-022-03-05.png'],\n",
       " 2)"
      ]
     },
     "execution_count": 64,
     "metadata": {},
     "output_type": "execute_result"
    }
   ],
   "source": [
    "corrupt_images, len(corrupt_images)"
   ]
  },
  {
   "cell_type": "code",
   "execution_count": 65,
   "id": "0e6f8c76",
   "metadata": {},
   "outputs": [
    {
     "name": "stdout",
     "output_type": "stream",
     "text": [
      "3600\n"
     ]
    }
   ],
   "source": [
    "# identify the index of the corrupted image\n",
    "corrupt_index_1 = image_paths.index('./data/words/a01/a01-117/a01-117-05-02.png')\n",
    "print(corrupt_index_1)\n",
    "\n",
    "# remove the first corrupted impage: 'data\\\\words\\\\a01\\\\a01-117\\\\a01-117-05-02.png'\n",
    "del image_paths[3600]\n",
    "del image_texts[3600]"
   ]
  },
  {
   "cell_type": "code",
   "execution_count": 66,
   "id": "11ed21f4",
   "metadata": {},
   "outputs": [
    {
     "name": "stdout",
     "output_type": "stream",
     "text": [
      "94928\n"
     ]
    }
   ],
   "source": [
    "# identify the index of the corrupted image\n",
    "corrupt_index_2 = image_paths.index('./data/words/r06/r06-022/r06-022-03-05.png')\n",
    "print(corrupt_index_2)\n",
    "\n",
    "# remove the first corrupted impage:'data\\\\words\\\\r06\\\\r06-022\\\\r06-022-03-05.png'\n",
    "del image_paths[94928]\n",
    "del image_texts[94928]"
   ]
  },
  {
   "cell_type": "code",
   "execution_count": 67,
   "id": "fa3cf016",
   "metadata": {},
   "outputs": [
    {
     "name": "stdout",
     "output_type": "stream",
     "text": [
      "Remaing Length of image_texts 96454\n",
      "Remaing Length of image_paths 96454\n"
     ]
    }
   ],
   "source": [
    "# Remaining data\n",
    "print(\"Remaing Length of image_texts\", len(image_texts))\n",
    "print(\"Remaing Length of image_paths\", len(image_paths))"
   ]
  },
  {
   "cell_type": "code",
   "execution_count": 68,
   "id": "755b7567",
   "metadata": {},
   "outputs": [
    {
     "name": "stdout",
     "output_type": "stream",
     "text": [
      "['!', '\"', '#', '&', \"'\", '(', ')', '*', '+', ',', '-', '.', '/', '0', '1', '2', '3', '4', '5', '6', '7', '8', '9', ':', ';', '?', 'A', 'B', 'C', 'D', 'E', 'F', 'G', 'H', 'I', 'J', 'K', 'L', 'M', 'N', 'O', 'P', 'Q', 'R', 'S', 'T', 'U', 'V', 'W', 'X', 'Y', 'Z', 'a', 'b', 'c', 'd', 'e', 'f', 'g', 'h', 'i', 'j', 'k', 'l', 'm', 'n', 'o', 'p', 'q', 'r', 's', 't', 'u', 'v', 'w', 'x', 'y', 'z']\n",
      "max_label_len is 21\n",
      "length of vocab is  78\n"
     ]
    }
   ],
   "source": [
    "# get vocabulary for the current dataset\n",
    "vocab = set(\"\".join(map(str, image_texts)))\n",
    "print(sorted(vocab))\n",
    "\n",
    "#get the max length of any text\n",
    "max_label_len = max([len(str(text)) for text in image_texts])\n",
    "print(\"max_label_len is\", max_label_len)\n",
    "print(\"length of vocab is \", len(vocab))"
   ]
  },
  {
   "cell_type": "code",
   "execution_count": 69,
   "id": "bcf1c65a",
   "metadata": {},
   "outputs": [],
   "source": [
    "char_list = sorted(vocab)\n",
    "\n",
    "\n",
    "def encode_to_labels(txt):\n",
    "    # encoding each output word into digits\n",
    "    dig_lst = []\n",
    "    \n",
    "    for index, char in enumerate(txt):\n",
    "        try:\n",
    "            dig_lst.append(char_list.index(char))\n",
    "        except:\n",
    "            print(char)\n",
    "    #pad_sequences will fill in digit 78 (len(char_list)) to reach the max length of len(char_list) for each text label\n",
    "    return pad_sequences([dig_lst], maxlen=max_label_len, padding='post', value=len(char_list))[0]\n",
    "\n",
    "def inverse_encode(dig_y):\n",
    "    word=\"\"\n",
    "    for i in range(len(dig_y)):\n",
    "        # 21 elements in each encode_to_labels\n",
    "        for j in range(21):\n",
    "            if dig_y[i][j]!=78:\n",
    "                char = char_list[dig_y[i]]\n",
    "                word+=char\n",
    "    return word"
   ]
  },
  {
   "cell_type": "code",
   "execution_count": 70,
   "id": "88fce3c2",
   "metadata": {},
   "outputs": [
    {
     "data": {
      "text/plain": [
       "array([38, 40, 47, 30, 78, 78, 78, 78, 78, 78, 78, 78, 78, 78, 78, 78, 78,\n",
       "       78, 78, 78, 78], dtype=int32)"
      ]
     },
     "execution_count": 70,
     "metadata": {},
     "output_type": "execute_result"
    }
   ],
   "source": [
    "padded_image_texts = list(map(encode_to_labels, image_texts))\n",
    "\n",
    "padded_image_texts[1]"
   ]
  },
  {
   "cell_type": "code",
   "execution_count": 71,
   "id": "885a3c80",
   "metadata": {},
   "outputs": [],
   "source": [
    "# # use 90/10 train/test split to speed up training time\n",
    "\n",
    "# train_image_paths = image_paths[ : int(len(image_paths) * 0.90)]\n",
    "# train_image_texts = padded_image_texts[ : int(len(image_texts) * 0.90)]\n",
    "\n",
    "# val_image_paths = image_paths[int(len(image_paths) * 0.90) : ]\n",
    "# val_image_texts = padded_image_texts[int(len(image_texts) * 0.90) : ]\n",
    "\n",
    "# #validate\n",
    "# len(image_paths) ==len(val_image_paths)+len(train_image_paths)"
   ]
  },
  {
   "cell_type": "code",
   "execution_count": 72,
   "id": "63d24bd6",
   "metadata": {},
   "outputs": [
    {
     "name": "stdout",
     "output_type": "stream",
     "text": [
      "(166, 78)\n"
     ]
    },
    {
     "data": {
      "image/png": "[encoded data removed]",
      "text/plain": [
       "<PIL.Image.Image image mode=RGB size=126x61>"
      ]
     },
     "execution_count": 72,
     "metadata": {},
     "output_type": "execute_result"
    }
   ],
   "source": [
    "print(load_img(image_paths[3]).size)\n",
    "load_img(image_paths[4])"
   ]
  },
  {
   "cell_type": "code",
   "execution_count": 73,
   "id": "413d7088",
   "metadata": {},
   "outputs": [
    {
     "data": {
      "image/png": "[encoded data removed]",
      "text/plain": [
       "<PIL.Image.Image image mode=RGB size=128x32>"
      ]
     },
     "execution_count": 73,
     "metadata": {},
     "output_type": "execute_result"
    }
   ],
   "source": [
    "img = load_img(image_paths[4],target_size=(32,128))   \n",
    "img"
   ]
  },
  {
   "cell_type": "code",
   "execution_count": 74,
   "id": "c6051423",
   "metadata": {},
   "outputs": [
    {
     "data": {
      "text/plain": [
       "array([38, 40, 47, 30, 78, 78, 78, 78, 78, 78, 78, 78, 78, 78, 78, 78, 78,\n",
       "       78, 78, 78, 78], dtype=int32)"
      ]
     },
     "execution_count": 74,
     "metadata": {},
     "output_type": "execute_result"
    }
   ],
   "source": [
    "img = load_img(image_paths[4],target_size=(32, 128))\n",
    "      \n",
    "# transform image to array\n",
    "img = img_to_array(img)\n",
    "\n",
    "# stack images and trasnform to array\n",
    "# images_stact = np.stack(images_mini)\n",
    "y_lab = np.array(padded_image_texts[1]).flatten() \n",
    "y_lab"
   ]
  },
  {
   "cell_type": "code",
   "execution_count": 75,
   "id": "ca2d6de7",
   "metadata": {},
   "outputs": [
    {
     "data": {
      "text/plain": [
       "96454"
      ]
     },
     "execution_count": 75,
     "metadata": {},
     "output_type": "execute_result"
    }
   ],
   "source": [
    "len(padded_image_texts)"
   ]
  },
  {
   "cell_type": "code",
   "execution_count": 76,
   "id": "353d8a6d",
   "metadata": {},
   "outputs": [],
   "source": [
    "def preprocess_data_part1(IMAGE_PATH, LABEL_PATH):\n",
    "    \"\"\" Generate lists of images and labelsbased on temp_no_refer and temp_refer lists\n",
    "    \n",
    "    Params:\n",
    "    -------\n",
    "    IMAGE_PATH (str): path to directory with images.\n",
    "    LABEL_PATH (str): path to directory with labels.\n",
    "    \n",
    "    Returns:\n",
    "    --------\n",
    "    images_mini  (np.ndarray): Images of shape (N, 224, 224, 3)\n",
    "    y_mini (np.ndarray): Labels of shape (N,)    \n",
    "    \"\"\"\n",
    "    y_update = []\n",
    "    images_update = []\n",
    "\n",
    "    # create lists of images and labels `images_mini` and `y_mini` \n",
    "    # based on temp_no_refer and temp_refer selections\n",
    "    for img in IMAGE_PATH:\n",
    "        # read image\n",
    "        img = load_img(image_paths[4],target_size=(32, 128))\n",
    "        \n",
    "        # transform image to array\n",
    "        img = img_to_array(img)\n",
    "        \n",
    "        # append to images\n",
    "        images_update.append(img)\n",
    "\n",
    "    # stack images and trasnform to array\n",
    "    images_update = np.stack(images_update)\n",
    "#     y_update = np.array(LABEL_PATH).flatten()\n",
    "    y_update = np.array(LABEL_PATH)  # did not flatten as it is multi output (21) for each label \n",
    "    \n",
    "    return images_update, y_update"
   ]
  },
  {
   "cell_type": "code",
   "execution_count": 50,
   "id": "49f39c91",
   "metadata": {},
   "outputs": [
    {
     "name": "stdout",
     "output_type": "stream",
     "text": [
      "images_update shape (96454, 32, 128, 3)\n",
      "y_update shape (96454, 21)\n"
     ]
    }
   ],
   "source": [
    "# generate images and labels based on preprocess_data_part1() function\n",
    "images_update, y_update = preprocess_data_part1(image_paths, padded_image_texts)\n",
    "\n",
    "print(f\"images_update shape {images_update.shape}\")\n",
    "print(f\"y_update shape {y_update.shape}\")"
   ]
  },
  {
   "cell_type": "code",
   "execution_count": 51,
   "id": "38e7cb7a",
   "metadata": {},
   "outputs": [],
   "source": [
    "def process_single_sample(img_path, label):\n",
    "\n",
    "    # 1. Read image\n",
    "    img = tf.io.read_file(img_path)\n",
    "\n",
    "    # 2. Decode and convert to grayscale\n",
    "    img = tf.io.decode_png(img, channels=1)\n",
    "\n",
    "    # 3. Convert to float32 in [0, 1] range\n",
    "    img = tf.image.convert_image_dtype(img, tf.float32)\n",
    "\n",
    "    # 4. Resize to the desired size\n",
    "    img = tf.image.resize(img, [32, 128])\n",
    "    \n",
    "#     img = tf.transpose(img, perm=[1, 0, 2])\n",
    "    return {\"image\": img, \"label\": label}"
   ]
  },
  {
   "cell_type": "code",
   "execution_count": 52,
   "id": "230d8e38",
   "metadata": {},
   "outputs": [
    {
     "data": {
      "image/png": "[encoded data removed]",
      "text/plain": [
       "<PIL.Image.Image image mode=RGB size=128x32>"
      ]
     },
     "execution_count": 52,
     "metadata": {},
     "output_type": "execute_result"
    }
   ],
   "source": [
    "array_to_img(images_update[1]) "
   ]
  },
  {
   "cell_type": "code",
   "execution_count": 53,
   "id": "3ed99c86",
   "metadata": {},
   "outputs": [
    {
     "data": {
      "image/png": "[encoded data removed]",
      "text/plain": [
       "<PIL.Image.Image image mode=RGB size=213x48>"
      ]
     },
     "execution_count": 53,
     "metadata": {},
     "output_type": "execute_result"
    }
   ],
   "source": [
    "load_img(image_paths[1])  #original image sequence"
   ]
  },
  {
   "cell_type": "markdown",
   "id": "4b3c355f",
   "metadata": {},
   "source": [
    "### Preprocessing: Image transformation and augmentation"
   ]
  },
  {
   "cell_type": "code",
   "execution_count": 54,
   "id": "db071f52",
   "metadata": {},
   "outputs": [
    {
     "name": "stdout",
     "output_type": "stream",
     "text": [
      "Metal device set to: Apple M2\n"
     ]
    },
    {
     "data": {
      "image/png": "[encoded data removed]",
      "text/plain": [
       "<Figure size 1400x1200 with 5 Axes>"
      ]
     },
     "metadata": {},
     "output_type": "display_data"
    }
   ],
   "source": [
    "# use one example\n",
    "tf.random.set_seed(1234)\n",
    "\n",
    "fig = plt.figure(figsize=(14, 12))\n",
    "\n",
    "# pull first image from data\n",
    "image = load_img(image_paths[1])\n",
    "\n",
    "# plot original\n",
    "ax = fig.add_subplot(1, 5, 1)\n",
    "ax.imshow(image)\n",
    "ax.set_title('Original', size=15);\n",
    "\n",
    "#test the image transformation\n",
    "img_io = tf.io.read_file(image_paths[1])\n",
    "\n",
    "# # 2. Decode and convert to grayscale\n",
    "img_io = tf.io.decode_png(img_io, channels=1)\n",
    "\n",
    "# 3. Convert to float32 in [0, 1] range\n",
    "img_io = tf.image.convert_image_dtype(img_io, tf.float32)\n",
    "\n",
    "# resize\n",
    "ax = fig.add_subplot(1, 5, 2)\n",
    "img_resize = tf.image.resize(img_io, size=(32, 128))\n",
    "ax.imshow(array_to_img(img_resize))\n",
    "ax.set_title('Step 1: Resize', size=15);\n",
    "\n",
    "# adjust brightness\n",
    "ax = fig.add_subplot(1, 5, 3)\n",
    "img_bright = tf.image.adjust_brightness(img_resize, 0.3)\n",
    "ax.imshow(array_to_img(img_bright))\n",
    "ax.set_title('Step 2: Brightness', size=15);\n",
    "\n",
    "\n",
    "# adjust contrast\n",
    "ax = fig.add_subplot(1, 5, 4)\n",
    "img_contrast = tf.image.adjust_contrast(img_bright, contrast_factor=3)\n",
    "ax.imshow(array_to_img(img_contrast))\n",
    "ax.set_title('Step 3: Contrast', size=15);\n",
    "\n",
    "\n",
    "# flip left right\n",
    "ax = fig.add_subplot(1, 5, 5)\n",
    "img_flip = tf.image.flip_left_right(img_contrast)\n",
    "ax.imshow(array_to_img(img_flip))\n",
    "ax.set_title('Step 4: Flip left right', size=15);"
   ]
  },
  {
   "cell_type": "code",
   "execution_count": 55,
   "id": "75196406",
   "metadata": {},
   "outputs": [],
   "source": [
    "# # same function but applies to the entire image path\n",
    "# def process_group_sample(image_path):\n",
    "    \n",
    "#     img_path = []\n",
    "\n",
    "#     for i in range(len(image_path)):\n",
    "#         img = tf.io.read_file(image_path[i])\n",
    "\n",
    "#         # 2. Decode and convert to grayscale\n",
    "#         img = tf.io.decode_png(img, channels=1)\n",
    "\n",
    "#         # 3. Convert to float32 in [0, 1] range\n",
    "#         img = tf.image.convert_image_dtype(img, tf.float32)\n",
    "\n",
    "#         # 4. Resize to the desired size\n",
    "#         img = tf.image.resize(img, [32, 128])\n",
    "    \n",
    "#         img_path.append(img)\n",
    "#         #     print(img_path)\n",
    "#     return img_path"
   ]
  },
  {
   "cell_type": "code",
   "execution_count": 56,
   "id": "b6ad8614",
   "metadata": {},
   "outputs": [],
   "source": [
    "IMAGE_SIZE = (32, 128)\n",
    "CONTRAST_FACTOR = 3\n",
    "DELTA = 0.3\n",
    "\n",
    "def preprocess_data_part2(images, y, split=(0.6,0.2,0.2)):\n",
    "    \"\"\" Split data into train, validation and test sets; apply transformaions and augmentations\n",
    "    \n",
    "    Params:\n",
    "    -------\n",
    "    images  (np.ndarray): Images of shape (N, 224, 224, 3)  # need to update the shape\n",
    "    y (np.ndarray): Labels of shape (N,)   \n",
    "    split (tuple): 3 values summing to 1 defining split of train, validation and test sets\n",
    "    \n",
    "    Returns:\n",
    "    --------\n",
    "    X_train (np.ndarray): Train images of shape (N_train, 224, 224, 3)\n",
    "    y_train (np.ndarray): Train labels of shape (N_train,)\n",
    "    X_val (np.ndarray): Val images of shape (N_val, 224, 224, 3)\n",
    "    y_val (np.ndarray): Val labels of shape (N_val,)\n",
    "    X_test (np.ndarray): Test images of shape (N_test, 224, 224, 3)\n",
    "    y_test (np.ndarray): Test labels of shape (N_test,)\n",
    "    \n",
    "    \"\"\"\n",
    "    \n",
    "    ### create train/validation/test sets ###\n",
    "    #########################################\n",
    "    # NOTE: Each time you run this cell, you'll re-shuffle the data. The ordering will be the same due to \n",
    "    # the random seed generator \n",
    "    tf.random.set_seed(1234)\n",
    "    np.random.seed(1234)\n",
    "    shuffle = np.random.permutation(np.arange(images.shape[0]))\n",
    "    images, y = images[shuffle], y[shuffle]\n",
    "    \n",
    "    splits = np.multiply(len(images_update), split).astype(int)\n",
    "    X_train, X_val, X_test = np.split(images_update, [splits[0], splits[0]+splits[1]])\n",
    "    y_train, y_val, y_test = np.split(y_update, [splits[0], splits[0]+splits[1]])\n",
    "    \n",
    "    ## image transformation on training, validation, and test data ###\n",
    "    ##################################################################\n",
    "#     image resize (if the resize is different than (32, 128))\n",
    "#     X_train = tf.image.resize(X_train, size=IMAGE_SIZE)\n",
    "#     X_val = tf.image.resize(X_val, size=IMAGE_SIZE)\n",
    "#     X_test = tf.image.resize(X_test, size=IMAGE_SIZE)\n",
    "    \n",
    "    # rescale image to [0,1], i.e., greyscale\n",
    "    X_train = tf.image.rgb_to_grayscale(X_train)/255.0\n",
    "    X_val = tf.image.rgb_to_grayscale(X_val)/255.0\n",
    "    X_test = tf.image.rgb_to_grayscale(X_test)/255.0\n",
    "    \n",
    "    ### image augmentation on training data ###\n",
    "    ###########################################\n",
    "    # adjust brightness\n",
    "    X_train_augm = tf.image.adjust_brightness(X_train, delta=DELTA)\n",
    "    \n",
    "    # adjust contrast\n",
    "    X_train_augm = tf.image.adjust_contrast(X_train_augm, contrast_factor=CONTRAST_FACTOR)\n",
    "\n",
    "    # random flip\n",
    "    X_train_augm = tf.image.random_flip_left_right(X_train_augm)\n",
    "    \n",
    "    # concatenate original X_train and augmented X_train data\n",
    "    # double the training size in this step\n",
    "    X_train = tf.concat([X_train, X_train_augm],axis=0)\n",
    "    \n",
    "    # concatenate y_train (note the label is preserved)\n",
    "    y_train_augm = y_train\n",
    "    y_train = tf.concat([y_train, y_train_augm],axis=0)\n",
    "    \n",
    "    # shuffle X_train and y_train, i.e., shuffle two tensors in the same order\n",
    "    shuffle = tf.random.shuffle(tf.range(tf.shape(X_train)[0], dtype=tf.int32))\n",
    "    X_train = tf.gather(X_train, shuffle)\n",
    "    y_train = tf.gather(y_train, shuffle).numpy() #also transforms y_train to numpy array\n",
    "    \n",
    "    return X_train, y_train, X_val, y_val, X_test, y_test"
   ]
  },
  {
   "cell_type": "markdown",
   "id": "cefd75c3",
   "metadata": {},
   "source": [
    "### In the preprocess_data_part2 step, X_train size is double from 57872 to 115744, to include the X_train_augm data"
   ]
  },
  {
   "cell_type": "code",
   "execution_count": 57,
   "id": "ffaeeccf",
   "metadata": {},
   "outputs": [
    {
     "name": "stdout",
     "output_type": "stream",
     "text": [
      "X_train shape (115744, 32, 128, 1)\n",
      "y_train shape (115744, 21)\n",
      "X_val shape (19290, 32, 128, 1)\n",
      "y_val shape (19290, 21)\n",
      "X_test shape (19292, 32, 128, 1)\n",
      "y_test shape (19292, 21)\n"
     ]
    }
   ],
   "source": [
    "X_train, y_train, X_val, y_val, X_test, y_test = preprocess_data_part2(\n",
    "    images_update,\n",
    "    y_update,\n",
    "    split=(0.6,0.2,0.2)\n",
    ")\n",
    "\n",
    "print(f\"X_train shape {X_train.shape}\")\n",
    "print(f\"y_train shape {y_train.shape}\")\n",
    "print(f\"X_val shape {X_val.shape}\")\n",
    "print(f\"y_val shape {y_val.shape}\")\n",
    "print(f\"X_test shape {X_test.shape}\")\n",
    "print(f\"y_test shape {y_test.shape}\")"
   ]
  },
  {
   "cell_type": "code",
   "execution_count": 58,
   "id": "c4063261",
   "metadata": {},
   "outputs": [
    {
     "data": {
      "text/plain": [
       "array([55, 56, 52, 71, 59, 78, 78, 78, 78, 78, 78, 78, 78, 78, 78, 78, 78,\n",
       "       78, 78, 78, 78], dtype=int32)"
      ]
     },
     "execution_count": 58,
     "metadata": {},
     "output_type": "execute_result"
    }
   ],
   "source": [
    "y_train[0]"
   ]
  },
  {
   "cell_type": "code",
   "execution_count": null,
   "id": "2c203db4",
   "metadata": {},
   "outputs": [],
   "source": []
  },
  {
   "cell_type": "markdown",
   "id": "75706335",
   "metadata": {},
   "source": [
    "Logistic Regression"
   ]
  },
  {
   "cell_type": "code",
   "execution_count": 88,
   "id": "5dba0f33",
   "metadata": {},
   "outputs": [
    {
     "name": "stderr",
     "output_type": "stream",
     "text": [
      "/Users/mrsca/opt/anaconda3/envs/tensorflow/lib/python3.9/site-packages/sklearn/linear_model/_logistic.py:444: ConvergenceWarning: lbfgs failed to converge (status=1):\n",
      "STOP: TOTAL NO. of ITERATIONS REACHED LIMIT.\n",
      "\n",
      "Increase the number of iterations (max_iter) or scale the data as shown in:\n",
      "    https://scikit-learn.org/stable/modules/preprocessing.html\n",
      "Please also refer to the documentation for alternative solver options:\n",
      "    https://scikit-learn.org/stable/modules/linear_model.html#logistic-regression\n",
      "  n_iter_i = _check_optimize_result(\n"
     ]
    }
   ],
   "source": [
    "from sklearn.linear_model import LogisticRegression\n",
    "from tensorflow.python.ops.numpy_ops import np_config\n",
    "\n",
    "np_config.enable_numpy_behavior()\n",
    "X_train_reshape = X_train[:8000].reshape(8000, 4096)\n",
    "Y_train_reshape = np.argmax(y_train[:8000], axis=1)\n",
    "\n",
    "clf = LogisticRegression(random_state=0).fit(X_train_reshape, Y_train_reshape)"
   ]
  },
  {
   "cell_type": "markdown",
   "id": "86f52c8d",
   "metadata": {},
   "source": [
    "## Experiment Scikit-learn model"
   ]
  },
  {
   "cell_type": "markdown",
   "id": "54f2e996",
   "metadata": {},
   "source": [
    "### LogisticRegression"
   ]
  },
  {
   "cell_type": "code",
   "execution_count": 89,
   "id": "18f45ccf",
   "metadata": {},
   "outputs": [],
   "source": [
    "# scikit-learn model\n",
    "\n",
    "from sklearn.datasets import make_multilabel_classification\n",
    "from sklearn.multioutput import MultiOutputClassifier\n",
    "from sklearn.linear_model import LogisticRegression\n",
    "from sklearn.tree import DecisionTreeClassifier\n",
    "from sklearn.neighbors import KNeighborsClassifier\n",
    "from sklearn.naive_bayes import MultinomialNB\n",
    "\n",
    "# Text clearning\n",
    "# import neattext.functions as nfx\n",
    "\n",
    "# transformers\n",
    "from sklearn.feature_extraction.text import CountVectorizer, TfidfVectorizer\n",
    "from sklearn.pipeline import Pipeline\n",
    "from sklearn.metrics import accuracy_score, classification_report, confusion_matrix"
   ]
  },
  {
   "cell_type": "code",
   "execution_count": null,
   "id": "1739f477",
   "metadata": {},
   "outputs": [],
   "source": [
    "# #Build a pipeline\n",
    "\n",
    "# # use ('cv', CountVectorizer()) to convert text\n",
    "# # pipe_lr = Pipeline(steps=[('cv', CountVectorizer()),\n",
    "# #                          ('lr_multi',MultiOutputClassifier(LogisticRegression()))])\n",
    "\n",
    "# pipe_lr = Pipeline(steps=[('lr_multi',MultiOutputClassifier(LogisticRegression()))])\n",
    "\n",
    "# # sciki learn expects 2-D dimension\n",
    "# X_train_sk = np.array(X_train).reshape(-1,4096)\n",
    "# Y_train_sk = np.array(Y_train)\n",
    "\n",
    "# # Fit the model\n",
    "# pipe_lr.fit(X_train_sk, Y_train_sk)"
   ]
  },
  {
   "cell_type": "code",
   "execution_count": null,
   "id": "4eec1be1",
   "metadata": {},
   "outputs": [],
   "source": [
    "# # sciki learn expects 2-D dimension\n",
    "# X_test_sk = np.array(X_test).reshape(-1,4096)\n",
    "# X_test_sk = np.array(Y_test)"
   ]
  },
  {
   "cell_type": "code",
   "execution_count": null,
   "id": "1bff53b1",
   "metadata": {},
   "outputs": [],
   "source": [
    "# print(\"Linear Regression Training Accuracy is:\", pipe_lr.score(X_test_sk, X_test_sk))\n",
    "# print(\"Linear Regression Test Accuracy is:\", pipe_lr.score(X_test_sk, X_test_sk))"
   ]
  },
  {
   "cell_type": "code",
   "execution_count": null,
   "id": "3b4e27eb",
   "metadata": {},
   "outputs": [],
   "source": [
    "# # Predict one example\n",
    "# ex1 = X_test_sk.iloc[0]\n",
    "# print(pipe_lr.predict([ex1]))\n",
    "\n",
    "# #print predicted class and Probability\n",
    "# print(pipe_lr.classes([ex1]))\n",
    "# print(pipe_lr.predict_proba([ex1]))"
   ]
  },
  {
   "cell_type": "code",
   "execution_count": 90,
   "id": "94b37bff",
   "metadata": {},
   "outputs": [],
   "source": [
    "# alternative codes for scikit-learn LR model\n",
    "\n",
    "X = X_train[:8000]\n",
    "y = y_train[:8000]\n",
    "\n",
    "X, y = make_multilabel_classification(n_samples=8000, n_features=4096,\n",
    "                                      n_classes=21, random_state=0)\n",
    "sk_lr = MultiOutputClassifier(LogisticRegression()).fit(X, y)"
   ]
  },
  {
   "cell_type": "code",
   "execution_count": 91,
   "id": "867b103e",
   "metadata": {},
   "outputs": [
    {
     "data": {
      "text/html": [
       "<style>#sk-container-id-1 {color: black;background-color: white;}#sk-container-id-1 pre{padding: 0;}#sk-container-id-1 div.sk-toggleable {background-color: white;}#sk-container-id-1 label.sk-toggleable__label {cursor: pointer;display: block;width: 100%;margin-bottom: 0;padding: 0.3em;box-sizing: border-box;text-align: center;}#sk-container-id-1 label.sk-toggleable__label-arrow:before {content: \"▸\";float: left;margin-right: 0.25em;color: #696969;}#sk-container-id-1 label.sk-toggleable__label-arrow:hover:before {color: black;}#sk-container-id-1 div.sk-estimator:hover label.sk-toggleable__label-arrow:before {color: black;}#sk-container-id-1 div.sk-toggleable__content {max-height: 0;max-width: 0;overflow: hidden;text-align: left;background-color: #f0f8ff;}#sk-container-id-1 div.sk-toggleable__content pre {margin: 0.2em;color: black;border-radius: 0.25em;background-color: #f0f8ff;}#sk-container-id-1 input.sk-toggleable__control:checked~div.sk-toggleable__content {max-height: 200px;max-width: 100%;overflow: auto;}#sk-container-id-1 input.sk-toggleable__control:checked~label.sk-toggleable__label-arrow:before {content: \"▾\";}#sk-container-id-1 div.sk-estimator input.sk-toggleable__control:checked~label.sk-toggleable__label {background-color: #d4ebff;}#sk-container-id-1 div.sk-label input.sk-toggleable__control:checked~label.sk-toggleable__label {background-color: #d4ebff;}#sk-container-id-1 input.sk-hidden--visually {border: 0;clip: rect(1px 1px 1px 1px);clip: rect(1px, 1px, 1px, 1px);height: 1px;margin: -1px;overflow: hidden;padding: 0;position: absolute;width: 1px;}#sk-container-id-1 div.sk-estimator {font-family: monospace;background-color: #f0f8ff;border: 1px dotted black;border-radius: 0.25em;box-sizing: border-box;margin-bottom: 0.5em;}#sk-container-id-1 div.sk-estimator:hover {background-color: #d4ebff;}#sk-container-id-1 div.sk-parallel-item::after {content: \"\";width: 100%;border-bottom: 1px solid gray;flex-grow: 1;}#sk-container-id-1 div.sk-label:hover label.sk-toggleable__label {background-color: #d4ebff;}#sk-container-id-1 div.sk-serial::before {content: \"\";position: absolute;border-left: 1px solid gray;box-sizing: border-box;top: 0;bottom: 0;left: 50%;z-index: 0;}#sk-container-id-1 div.sk-serial {display: flex;flex-direction: column;align-items: center;background-color: white;padding-right: 0.2em;padding-left: 0.2em;position: relative;}#sk-container-id-1 div.sk-item {position: relative;z-index: 1;}#sk-container-id-1 div.sk-parallel {display: flex;align-items: stretch;justify-content: center;background-color: white;position: relative;}#sk-container-id-1 div.sk-item::before, #sk-container-id-1 div.sk-parallel-item::before {content: \"\";position: absolute;border-left: 1px solid gray;box-sizing: border-box;top: 0;bottom: 0;left: 50%;z-index: -1;}#sk-container-id-1 div.sk-parallel-item {display: flex;flex-direction: column;z-index: 1;position: relative;background-color: white;}#sk-container-id-1 div.sk-parallel-item:first-child::after {align-self: flex-end;width: 50%;}#sk-container-id-1 div.sk-parallel-item:last-child::after {align-self: flex-start;width: 50%;}#sk-container-id-1 div.sk-parallel-item:only-child::after {width: 0;}#sk-container-id-1 div.sk-dashed-wrapped {border: 1px dashed gray;margin: 0 0.4em 0.5em 0.4em;box-sizing: border-box;padding-bottom: 0.4em;background-color: white;}#sk-container-id-1 div.sk-label label {font-family: monospace;font-weight: bold;display: inline-block;line-height: 1.2em;}#sk-container-id-1 div.sk-label-container {text-align: center;}#sk-container-id-1 div.sk-container {/* jupyter's `normalize.less` sets `[hidden] { display: none; }` but bootstrap.min.css set `[hidden] { display: none !important; }` so we also need the `!important` here to be able to override the default hidden behavior on the sphinx rendered scikit-learn.org. See: https://github.com/scikit-learn/scikit-learn/issues/21755 */display: inline-block !important;position: relative;}#sk-container-id-1 div.sk-text-repr-fallback {display: none;}</style><div id=\"sk-container-id-1\" class=\"sk-top-container\"><div class=\"sk-text-repr-fallback\"><pre>MultiOutputClassifier(estimator=LogisticRegression())</pre><b>In a Jupyter environment, please rerun this cell to show the HTML representation or trust the notebook. <br />On GitHub, the HTML representation is unable to render, please try loading this page with nbviewer.org.</b></div><div class=\"sk-container\" hidden><div class=\"sk-item sk-dashed-wrapped\"><div class=\"sk-label-container\"><div class=\"sk-label sk-toggleable\"><input class=\"sk-toggleable__control sk-hidden--visually\" id=\"sk-estimator-id-1\" type=\"checkbox\" ><label for=\"sk-estimator-id-1\" class=\"sk-toggleable__label sk-toggleable__label-arrow\">MultiOutputClassifier</label><div class=\"sk-toggleable__content\"><pre>MultiOutputClassifier(estimator=LogisticRegression())</pre></div></div></div><div class=\"sk-parallel\"><div class=\"sk-parallel-item\"><div class=\"sk-item\"><div class=\"sk-label-container\"><div class=\"sk-label sk-toggleable\"><input class=\"sk-toggleable__control sk-hidden--visually\" id=\"sk-estimator-id-2\" type=\"checkbox\" ><label for=\"sk-estimator-id-2\" class=\"sk-toggleable__label sk-toggleable__label-arrow\">estimator: LogisticRegression</label><div class=\"sk-toggleable__content\"><pre>LogisticRegression()</pre></div></div></div><div class=\"sk-serial\"><div class=\"sk-item\"><div class=\"sk-estimator sk-toggleable\"><input class=\"sk-toggleable__control sk-hidden--visually\" id=\"sk-estimator-id-3\" type=\"checkbox\" ><label for=\"sk-estimator-id-3\" class=\"sk-toggleable__label sk-toggleable__label-arrow\">LogisticRegression</label><div class=\"sk-toggleable__content\"><pre>LogisticRegression()</pre></div></div></div></div></div></div></div></div></div></div>"
      ],
      "text/plain": [
       "MultiOutputClassifier(estimator=LogisticRegression())"
      ]
     },
     "execution_count": 91,
     "metadata": {},
     "output_type": "execute_result"
    }
   ],
   "source": [
    "# Fit the model\n",
    "sk_lr.fit(X, y)"
   ]
  },
  {
   "cell_type": "code",
   "execution_count": 92,
   "id": "ec6c7188",
   "metadata": {},
   "outputs": [
    {
     "data": {
      "text/plain": [
       "TensorShape([115744, 4096])"
      ]
     },
     "execution_count": 92,
     "metadata": {},
     "output_type": "execute_result"
    }
   ],
   "source": [
    "# reshape to 2-D\n",
    "X_train_rs = tf.reshape(X_train, [-1,4096])\n",
    "X_val_rs = tf.reshape(X_val, [-1,4096])\n",
    "X_test_rs = tf.reshape(X_test, [-1,4096])\n",
    "\n",
    "X_train_rs.shape"
   ]
  },
  {
   "cell_type": "code",
   "execution_count": 93,
   "id": "258b40b5",
   "metadata": {},
   "outputs": [
    {
     "data": {
      "text/plain": [
       "0.991125"
      ]
     },
     "execution_count": 93,
     "metadata": {},
     "output_type": "execute_result"
    }
   ],
   "source": [
    "# Score the traing data\n",
    "sk_lr.score(X, y)"
   ]
  },
  {
   "cell_type": "code",
   "execution_count": null,
   "id": "f5ec95d0",
   "metadata": {},
   "outputs": [],
   "source": [
    "y_train[:1]"
   ]
  },
  {
   "cell_type": "code",
   "execution_count": null,
   "id": "701fdcdf",
   "metadata": {},
   "outputs": [],
   "source": [
    "X[:1]"
   ]
  },
  {
   "cell_type": "code",
   "execution_count": 97,
   "id": "42798a51",
   "metadata": {},
   "outputs": [
    {
     "data": {
      "text/plain": [
       "array([[0, 0, 0, 0, 0, 1, 0, 0, 0, 0, 0, 1, 0, 0, 0, 0, 0, 0, 1, 0, 0]])"
      ]
     },
     "execution_count": 97,
     "metadata": {},
     "output_type": "execute_result"
    }
   ],
   "source": [
    "y[:1]"
   ]
  },
  {
   "cell_type": "code",
   "execution_count": 94,
   "id": "eb96acc6",
   "metadata": {},
   "outputs": [
    {
     "name": "stdout",
     "output_type": "stream",
     "text": [
      "[[0 0 0 0 0 1 0 0 0 0 0 1 0 0 0 0 0 0 1 0 0]]\n"
     ]
    }
   ],
   "source": [
    "predict_1 = sk_lr.predict(X[:1])\n",
    "print(predict_1)"
   ]
  },
  {
   "cell_type": "code",
   "execution_count": 95,
   "id": "c142de53",
   "metadata": {},
   "outputs": [
    {
     "data": {
      "text/plain": [
       "array([[0, 0, 0, ..., 0, 0, 0],\n",
       "       [0, 0, 0, ..., 0, 0, 0],\n",
       "       [0, 0, 0, ..., 0, 0, 0],\n",
       "       ...,\n",
       "       [0, 0, 0, ..., 0, 0, 0],\n",
       "       [0, 0, 0, ..., 0, 0, 0],\n",
       "       [0, 0, 0, ..., 0, 0, 0]])"
      ]
     },
     "execution_count": 95,
     "metadata": {},
     "output_type": "execute_result"
    }
   ],
   "source": [
    "#prediction\n",
    "pre_val = sk_lr.predict(X_train_rs[:1000])\n",
    "pre_val"
   ]
  },
  {
   "cell_type": "code",
   "execution_count": 96,
   "id": "962594fb",
   "metadata": {},
   "outputs": [
    {
     "data": {
      "text/plain": [
       "0.0"
      ]
     },
     "execution_count": 96,
     "metadata": {},
     "output_type": "execute_result"
    }
   ],
   "source": [
    "#score accuracy\n",
    "sk_lr.score(X_val_rs[:8000], y_val[:8000])"
   ]
  },
  {
   "cell_type": "code",
   "execution_count": null,
   "id": "85c95a4b",
   "metadata": {},
   "outputs": [],
   "source": []
  },
  {
   "cell_type": "code",
   "execution_count": null,
   "id": "c28bb445",
   "metadata": {},
   "outputs": [],
   "source": [
    "# # Predict one example\n",
    "ex2 = X_test_re[0]\n",
    "print(sk_lr.predict([ex2]))\n",
    "\n",
    "#print predicted class and Probability\n",
    "# print(sk_lr.classes([ex2]))\n",
    "print(sk_lr.predict_proba([ex2].shape))"
   ]
  },
  {
   "cell_type": "code",
   "execution_count": null,
   "id": "03067b8d",
   "metadata": {},
   "outputs": [],
   "source": []
  },
  {
   "cell_type": "markdown",
   "id": "1f403bc6",
   "metadata": {},
   "source": [
    "###  Several Other ML Estimators that support multi-output\n",
    "- KNN\n",
    "- Random Forest\n",
    "- Decision Tree"
   ]
  },
  {
   "cell_type": "markdown",
   "id": "92a60f02",
   "metadata": {},
   "source": [
    "## Random Forest"
   ]
  },
  {
   "cell_type": "markdown",
   "id": "092c85d5",
   "metadata": {},
   "source": [
    "## Warning: DOES NOT FINISH the run even with 1000 images"
   ]
  },
  {
   "cell_type": "code",
   "execution_count": null,
   "id": "8e059fc1",
   "metadata": {},
   "outputs": [],
   "source": [
    "from sklearn.ensemble import RandomForestClassifier\n",
    "from sklearn.metrics import confusion_matrix\n"
   ]
  },
  {
   "cell_type": "code",
   "execution_count": null,
   "id": "48417c43",
   "metadata": {},
   "outputs": [],
   "source": [
    "# Fitting Random Forest Classification to the Training set, 32 x 128 = 4096\n",
    "sk_rf = RandomForestClassifier(n_estimators = 4096, criterion = 'entropy', random_state = 42)\n",
    "multi_target_forest = MultiOutputClassifier(sk_rf)\n",
    "\n",
    "multi_target_forest.fit(X_train_re, Y_train_re)"
   ]
  },
  {
   "cell_type": "code",
   "execution_count": null,
   "id": "89ec271a",
   "metadata": {},
   "outputs": [],
   "source": [
    "predictions = multi_target_forest.predict(X_test_re)\n",
    "assert_equal((n_samples, n_outputs), predictions.shape)\n",
    "\n",
    "predict_proba = multi_target_forest.predict_proba(X)\n",
    "\n",
    "assert len(predict_proba) == n_outputs\n",
    "for class_probabilities in predict_proba:\n",
    "    assert_equal((n_samples, n_classes), class_probabilities.shape)\n",
    "\n",
    "assert_array_equal(np.argmax(np.dstack(predict_proba), axis=1),\n",
    "                   predictions)"
   ]
  },
  {
   "cell_type": "code",
   "execution_count": null,
   "id": "7d1b6e89",
   "metadata": {},
   "outputs": [],
   "source": [
    "# Random Forecast model function\n",
    "# def test_multi_output_classification(X, y, n_estimators = 4096):\n",
    "#     # test if multi_target initializes correctly with base estimator and fit\n",
    "#     # assert predictions work as expected for predict, prodict_proba and score\n",
    "\n",
    "#     forest = RandomForestClassifier(n_estimators=n_estimators, random_state=1)\n",
    "#     multi_target_forest = MultiOutputClassifier(forest)\n",
    "\n",
    "#     # train the multi_target_forest and also get the predictions.\n",
    "#     multi_target_forest.fit(X, y)\n",
    "\n",
    "#     predictions = multi_target_forest.predict(X)\n",
    "#     assert_equal((n_samples, n_outputs), predictions.shape)\n",
    "\n",
    "#     predict_proba = multi_target_forest.predict_proba(X)\n",
    "\n",
    "#     assert len(predict_proba) == n_outputs\n",
    "#     for class_probabilities in predict_proba:\n",
    "#         assert_equal((n_samples, n_classes), class_probabilities.shape)\n",
    "\n",
    "#     assert_array_equal(np.argmax(np.dstack(predict_proba), axis=1),\n",
    "#                        predictions)\n",
    "\n",
    "#     # train the forest with each column and assert that predictions are equal\n",
    "#     for i in range(3):\n",
    "#         forest_ = clone(forest)  # create a clone with the same state\n",
    "#         forest_.fit(X, y[:, i])\n",
    "#         assert_equal(list(forest_.predict(X)), list(predictions[:, i]))\n",
    "#         assert_array_equal(list(forest_.predict_proba(X)),\n",
    "#                            list(predict_proba[i]))"
   ]
  },
  {
   "cell_type": "code",
   "execution_count": null,
   "id": "a14a8254",
   "metadata": {},
   "outputs": [],
   "source": []
  },
  {
   "cell_type": "markdown",
   "id": "5194cacb",
   "metadata": {},
   "source": [
    "## Warning: KNN below takes a very long time to run!\n",
    "\n",
    "### KNN Regression"
   ]
  },
  {
   "cell_type": "code",
   "execution_count": null,
   "id": "25aaf9d7",
   "metadata": {},
   "outputs": [],
   "source": [
    "# # Build the KNN model pipeline\n",
    "\n",
    "# pipe_lr = Pipeline(steps=[('knn',KNeighborsClassifier(n_neighbors=5))])  #try 5 neighbors"
   ]
  },
  {
   "cell_type": "code",
   "execution_count": null,
   "id": "075ce430",
   "metadata": {},
   "outputs": [],
   "source": [
    "# # KNN model\n",
    "# from sklearn.neighbors import KNeighborsClassifier\n",
    "# from sklearn.multioutput import MultiOutputClassifier, MultiOutputRegressor\n",
    "\n",
    "# clf_kn = MultiOutputClassifier(KNeighborsClassifier(n_neighbors=101)).fit(X, y)\n",
    "# clf_kn.predict(X)\n",
    "# clf_kn.score(X, y)"
   ]
  },
  {
   "cell_type": "code",
   "execution_count": null,
   "id": "f74c46f8",
   "metadata": {},
   "outputs": [],
   "source": [
    "# result_kn = clf_kn.predict(X_test[-1])\n",
    "# print(\"Prediction for the last sample\", result_kn)\n",
    "# # KNN Regression model accuracy\n",
    "# print(\"KNN Traing Accuracy is:\", clf_kn.score(X, y)\n",
    "# print(\"KNN Test Accuracy is:\", clf_kn.score(X_test, Y_test)"
   ]
  },
  {
   "cell_type": "code",
   "execution_count": null,
   "id": "beb15f00",
   "metadata": {},
   "outputs": [],
   "source": []
  },
  {
   "cell_type": "markdown",
   "id": "0b6a1ee1",
   "metadata": {},
   "source": [
    "## Experiment Keras Multiclassification Model"
   ]
  },
  {
   "cell_type": "code",
   "execution_count": null,
   "id": "b28e0216",
   "metadata": {},
   "outputs": [],
   "source": [
    "def build_model(n_classes,\n",
    "                hidden_layer_sizes=[],\n",
    "                activation='relu',\n",
    "                optimizer='Adam',\n",
    "                learning_rate=0.01):\n",
    "    \"\"\"Build a multi-class logistic regression model using Keras.\n",
    "    Args:\n",
    "    n_classes: Number of output classes in the dataset.\n",
    "    hidden_layer_sizes: A list with the number of units in each hidden layer.\n",
    "    activation: The activation function to use for the hidden layers.\n",
    "    optimizer: The optimizer to use (SGD, Adam).\n",
    "    learning_rate: The desired learning rate for the optimizer.\n",
    "    Returns:\n",
    "    model: A tf.keras model (graph).\n",
    "    \"\"\"\n",
    "    tf.keras.backend.clear_session()\n",
    "    np.random.seed(0)\n",
    "    tf.random.set_seed(0)\n",
    "    \n",
    "    # first layer: input shape of the dataset\n",
    "    input1 = keras.layers.Input(shape=(32, 128), name='Input')\n",
    "    \n",
    "    # second layer: flatten to transforms the format of the images to a 1D array of 28*28 = 784 pixels\n",
    "    # this layer has no params or weights to learn, it only reformats data\n",
    "    input2 = keras.layers.Flatten(name='Flatten')(input1)\n",
    "    \n",
    "    # add layers based on hidden_layer_sizes\n",
    "    inputs_layer = input2\n",
    "    activation = activation\n",
    "    for i in range(len(hidden_layer_sizes)):\n",
    "        input = keras.layers.Dense(hidden_layer_sizes[i], activation = activation, name=f'Hidden_Layer_{i}')(inputs_layer)\n",
    "        inputs_layer = input  \n",
    "  \n",
    "    # next layer: dropout. Makes it so some of the nodes in a given layer don’t pass on their information to the next layer\n",
    "    # This helps with computation time (less parameters) and with overfitting.\n",
    "    # Each node in this layer has a 0.3 probability of being dropped from the computation of the activations of \n",
    "    # the next layer\n",
    "    input_dropout = keras.layers.Dropout(rate=0.3, name='Dropout')(inputs_layer) \n",
    "    \n",
    "    #the last layer is the output layer\n",
    "    # this last layer sets the activation function to \"None\" in order to output the logits \n",
    "    # logits = natural logarithm of the odds ratio\n",
    "    # set units= n_classes for multiple classification problem)\n",
    "    out = keras.layers.Dense(units=n_classes, activation= None, name='Layer_output')(input_dropout)\n",
    "    \n",
    "    # Alternative:  out = keras.layers.Dense(units=n_classes, activation='softmax', name='Layer_output')(input_dropout) \n",
    "    # if activation is set to \"softmax\", then take out (from_logits=True) in the model.compile function\n",
    "    \n",
    "    model = keras.models.Model(inputs=input1, outputs=out)\n",
    "   \n",
    "    if optimizer=='SGD':\n",
    "        optimizers = keras.optimizers.SGD(learning_rate=0.01)\n",
    "    elif optimizer=='Adam':\n",
    "        optimizers = keras.optimizers.Adam(learning_rate=0.01)\n",
    "    else:\n",
    "        raise ValueError('Invalid optimizer: %s' % optimizer)\n",
    "    \n",
    "    model.compile(\n",
    "        loss=keras.losses.CategoricalCrossentropy(from_logits=True),\n",
    "        optimizer=optimizers,\n",
    "        metrics=['accuracy'])\n",
    "    \n",
    "    return model"
   ]
  },
  {
   "cell_type": "code",
   "execution_count": null,
   "id": "555d43bc",
   "metadata": {},
   "outputs": [],
   "source": [
    "#show model summmary\n",
    "# model = build_model(n_classes = 21, hidden_layer_sizes=[2048, 1024,512, 256,64])\n",
    "model = build_model(n_classes = 21, hidden_layer_sizes=[])\n",
    "model.summary()"
   ]
  },
  {
   "cell_type": "code",
   "execution_count": null,
   "id": "591668ed",
   "metadata": {},
   "outputs": [],
   "source": [
    "X_train.shape"
   ]
  },
  {
   "cell_type": "code",
   "execution_count": null,
   "id": "4cc1f63e",
   "metadata": {},
   "outputs": [],
   "source": [
    "X_train_mini = np.array(X_train[:8000])\n",
    "y_train_mini = np.array(y_train[:8000])"
   ]
  },
  {
   "cell_type": "code",
   "execution_count": null,
   "id": "1b67c024",
   "metadata": {},
   "outputs": [],
   "source": [
    "tf.random.set_seed(1234)\n",
    "np.random.seed(1234)\n",
    "\n",
    "history_img= model.fit(x=X_train,\n",
    "                y=y_train,\n",
    "                validation_split=0.1, # set 10% of train data for validation\n",
    "                batch_size=1000,\n",
    "#                 batch_size=len(X_train),\n",
    "                epochs=16,\n",
    "#                 verbose=0  # fit quitely \n",
    "               )"
   ]
  },
  {
   "cell_type": "code",
   "execution_count": null,
   "id": "ef6b3be1",
   "metadata": {},
   "outputs": [],
   "source": [
    "hist_img = history_img.history\n",
    "x_arr_img = np.arange(len(hist_img['loss'])) + 1\n",
    "\n",
    "fig = plt.figure(figsize=(12, 4))\n",
    "ax = fig.add_subplot(1, 2, 1)\n",
    "ax.plot(x_arr_img, hist_img['loss'], '-o', label='Train loss')\n",
    "ax.plot(x_arr_img, hist_img['val_loss'], '--<', label='Validation loss')\n",
    "ax.legend(fontsize=15)\n",
    "ax.set_xlabel('Epoch', size=15)\n",
    "ax.set_ylabel('Loss', size=15)\n",
    "\n",
    "ax = fig.add_subplot(1, 2, 2)\n",
    "ax.plot(x_arr_img, hist_img['accuracy'], '-o', label='Train acc.')\n",
    "ax.plot(x_arr_img, hist_img['val_accuracy'], '--<', label='Validation acc.')\n",
    "ax.legend(fontsize=15)\n",
    "ax.set_xlabel('Epoch', size=15)\n",
    "ax.set_ylabel('Accuracy', size=15)\n",
    "ax.set_ylim(0,1)\n",
    "plt.show()"
   ]
  },
  {
   "cell_type": "code",
   "execution_count": null,
   "id": "90c6651e",
   "metadata": {},
   "outputs": [],
   "source": [
    "test_accuracy = model.evaluate(x=X_test, y=y_test, verbose=0, return_dict=True)['accuracy']\n",
    "test_accuracy"
   ]
  },
  {
   "cell_type": "code",
   "execution_count": null,
   "id": "2dc041ab",
   "metadata": {},
   "outputs": [],
   "source": [
    "def train_and_evaluate(hidden_layer_sizes=[],\n",
    "                       activation='tanh',\n",
    "                       optimizer='Adam',\n",
    "                       learning_rate=0.01,\n",
    "                       num_epochs=10,\n",
    "                       batch_size= 1000):\n",
    "  \"\"\" train and evaluate\"\"\"\n",
    "  start_line = f'Hidden_layer:{hidden_layer_sizes}\\\\Activation:{activation}\\\\Optimizer:{optimizer}\\\\batch_size:{batch_size}\\\\Learning_Rate: {learning_rate}\\\\ epochs:{num_epochs}'\n",
    "  print(f'******************************************')\n",
    "  print(f'\\n\\nTrain and Evaluate with: {start_line}')\n",
    "\n",
    "  start_time = time.time()\n",
    "  # Build the model.\n",
    "  model = build_model(n_classes=21,\n",
    "                      hidden_layer_sizes=hidden_layer_sizes,\n",
    "                      activation=activation,\n",
    "                      optimizer=optimizer,\n",
    "                      learning_rate=learning_rate)\n",
    "\n",
    "  # Train the model.\n",
    "  history = model.fit(\n",
    "    x=X_train,\n",
    "    y=y_train,\n",
    "    epochs=num_epochs,\n",
    "    batch_size=batch_size,\n",
    "    validation_split=0.1,\n",
    "    verbose=0)\n",
    "\n",
    "  # Retrieve the training metrics (after each train epoch) and the final test\n",
    "  # accuracy.\n",
    "  train_accuracy = history.history['accuracy']\n",
    "  val_accuracy = history.history['val_accuracy']\n",
    "  plt.plot(train_accuracy, label='train_accuracy')\n",
    "  plt.plot(val_accuracy, label='validation accuracy')\n",
    "  plt.xticks(range(num_epochs))\n",
    "  plt.xlabel('Train epochs')\n",
    "  plt.legend()\n",
    "  plt.show()\n",
    "\n",
    "  test_accuracy = model.evaluate(x=X_test, y=y_test, verbose=0,\n",
    "                                 return_dict=True)['accuracy']\n",
    "  total_train_param = sum(count_params(layer) for layer in model.trainable_weights)\n",
    "  \n",
    "  time_elapsed = round(time.time() - start_time, 1)\n",
    "  print(f'Taining time is {time_elapsed} in seconds. Total trainable parameters are: {total_train_param}. Test accuracy: %1.4f' %test_accuracy)\n",
    "\n",
    "  return test_accuracy\n",
    "\n",
    "# print('Test Accuracy: %1.4f' %train_and_evaluate())\n",
    "\n",
    "run_1 = train_and_evaluate()"
   ]
  },
  {
   "cell_type": "markdown",
   "id": "921f2182",
   "metadata": {},
   "source": [
    "### Run experiments "
   ]
  },
  {
   "cell_type": "code",
   "execution_count": null,
   "id": "9af050e5",
   "metadata": {},
   "outputs": [],
   "source": [
    "hidden_sizes =[[],[1024, 512],[2048,1024, 512]]\n",
    "activation =['tanh','relu']\n",
    "# optimizer = ['SGD','Adam']\n",
    "optimizer = ['Adam']\n",
    "num_epochs= [10, 20]\n",
    "batch_size= [1000, 2000]\n",
    "\n",
    "for i in hidden_sizes:\n",
    "    for a in activation:\n",
    "        for o in optimizer:\n",
    "            for n in num_epochs:\n",
    "                for b in batch_size:\n",
    "                    train_and_evaluate(hidden_layer_sizes=i,\n",
    "                                       activation=a,\n",
    "                                       optimizer=o,\n",
    "                                       learning_rate=0.01,\n",
    "                                       num_epochs=n,\n",
    "                                      batch_size=b)   "
   ]
  },
  {
   "cell_type": "code",
   "execution_count": null,
   "id": "d484a7e0",
   "metadata": {},
   "outputs": [],
   "source": []
  },
  {
   "cell_type": "code",
   "execution_count": null,
   "id": "dd337cd5",
   "metadata": {},
   "outputs": [],
   "source": []
  },
  {
   "cell_type": "code",
   "execution_count": null,
   "id": "40059248",
   "metadata": {},
   "outputs": [],
   "source": []
  },
  {
   "cell_type": "code",
   "execution_count": null,
   "id": "bd31d75f",
   "metadata": {},
   "outputs": [],
   "source": []
  },
  {
   "cell_type": "code",
   "execution_count": null,
   "id": "c277ccb4",
   "metadata": {},
   "outputs": [],
   "source": []
  },
  {
   "cell_type": "code",
   "execution_count": null,
   "id": "9774578e",
   "metadata": {},
   "outputs": [],
   "source": []
  },
  {
   "cell_type": "markdown",
   "id": "d6efbc2b",
   "metadata": {},
   "source": [
    "#  The modes below are from Kaggle, these can't be run as it.  I sent you the Kaggle workbook a week or so ago, if you want to run it with your GPU"
   ]
  },
  {
   "cell_type": "markdown",
   "id": "2c06d18f",
   "metadata": {},
   "source": [
    "### Kaggle CV model\n"
   ]
  },
  {
   "cell_type": "code",
   "execution_count": null,
   "id": "457e00a9",
   "metadata": {},
   "outputs": [],
   "source": [
    "batch_size = 20\n",
    "\n",
    "train_dataset = tf.data.Dataset.from_tensor_slices((train_image_paths, train_image_texts))\n",
    "\n",
    "train_dataset = (\n",
    "    train_dataset.map(\n",
    "        process_single_sample, num_parallel_calls=tf.data.experimental.AUTOTUNE\n",
    "    )\n",
    "    .batch(batch_size)\n",
    "    .prefetch(buffer_size=tf.data.experimental.AUTOTUNE)\n",
    ")\n",
    "\n",
    "validation_dataset = tf.data.Dataset.from_tensor_slices((val_image_paths, val_image_texts))\n",
    "validation_dataset = (\n",
    "    validation_dataset.map(\n",
    "        process_single_sample, num_parallel_calls=tf.data.experimental.AUTOTUNE\n",
    "    )\n",
    "    .batch(batch_size)\n",
    "    .prefetch(buffer_size=tf.data.experimental.AUTOTUNE)\n",
    ")"
   ]
  },
  {
   "cell_type": "code",
   "execution_count": null,
   "id": "3394f5f3",
   "metadata": {},
   "outputs": [],
   "source": [
    "# use element_spec to check the elements\n",
    "print(train_dataset.element_spec['image'])\n",
    "print(train_dataset.element_spec['label'])"
   ]
  },
  {
   "cell_type": "code",
   "execution_count": null,
   "id": "db0cd488",
   "metadata": {},
   "outputs": [],
   "source": [
    "for X,y in train_dataset.as_numpy_iterator():\n",
    "    print(\"Shape of X, y\")\n",
    "    print(X, y)\n",
    "    print(type(X), type(y))\n",
    "    break # to avoid iterating over all the training examples"
   ]
  },
  {
   "cell_type": "code",
   "execution_count": null,
   "id": "b534eb74",
   "metadata": {},
   "outputs": [],
   "source": [
    "df[1]"
   ]
  },
  {
   "cell_type": "code",
   "execution_count": null,
   "id": "51acc26c",
   "metadata": {},
   "outputs": [],
   "source": [
    "# Mapping characters to integers\n",
    "char_to_num = layers.experimental.preprocessing.StringLookup(\n",
    "    vocabulary=char_list, num_oov_indices=0, mask_token=None\n",
    ")\n",
    "\n",
    "# Mapping integers back to original characters\n",
    "num_to_char = layers.experimental.preprocessing.StringLookup(\n",
    "    vocabulary=char_to_num.get_vocabulary(), mask_token=None, invert=True\n",
    ")\n",
    "\n",
    "train_data_fig, ax = plt.subplots(4, 4, figsize=(15, 10))\n",
    "train_data_fig.suptitle('Training data', weight='bold', size=18)\n",
    "\n",
    "\n",
    "for batch in train_dataset.take(1):\n",
    "    images = batch[\"image\"]\n",
    "    labels = batch[\"label\"]\n",
    "\n",
    "    for i in range(16):\n",
    "        img = (images[i] * 255).numpy().astype(\"uint8\")\n",
    "        label = tf.strings.reduce_join(num_to_char(labels[i])).numpy().decode(\"utf-8\")\n",
    "\n",
    "        label = label.replace('[UNK]', '')\n",
    "        ax[i // 4, i % 4].imshow(img[:, :, 0], cmap=\"gray\")\n",
    "        ax[i // 4, i % 4].set_title(label)\n",
    "        ax[i // 4, i % 4].axis(\"off\")\n",
    "    \n",
    "plt.show()"
   ]
  },
  {
   "cell_type": "code",
   "execution_count": null,
   "id": "399697d1",
   "metadata": {},
   "outputs": [],
   "source": [
    "## Ref: https://keras.io/examples/vision/captcha_ocr/\n",
    "\n",
    "class CTCLayer(layers.Layer):\n",
    "\n",
    "    def __init__(self, name=None):\n",
    "\n",
    "        super().__init__(name=name)\n",
    "        self.loss_fn = keras.backend.ctc_batch_cost\n",
    "\n",
    "    def call(self, y_true, y_pred):\n",
    "        # Compute the training-time loss value and add it\n",
    "        # to the layer using `self.add_loss()`.\n",
    "\n",
    "        batch_len = tf.cast(tf.shape(y_true)[0], dtype=\"int64\")\n",
    "        input_length = tf.cast(tf.shape(y_pred)[1], dtype=\"int64\")\n",
    "        label_length = tf.cast(tf.shape(y_true)[1], dtype=\"int64\")\n",
    "\n",
    "        input_length = input_length * tf.ones(shape=(batch_len, 1), dtype=\"int64\")\n",
    "        label_length = label_length * tf.ones(shape=(batch_len, 1), dtype=\"int64\")\n",
    "\n",
    "        loss = self.loss_fn(y_true, y_pred, input_length, label_length)\n",
    "        self.add_loss(loss)\n",
    "\n",
    "        # At test time, just return the computed predictions\n",
    "        return y_pred"
   ]
  },
  {
   "cell_type": "code",
   "execution_count": null,
   "id": "2f69ffa2",
   "metadata": {},
   "outputs": [],
   "source": [
    "def ctc_decoder(predictions):\n",
    "    '''\n",
    "    input: given batch of predictions from text rec model\n",
    "    output: return lists of raw extracted text\n",
    "\n",
    "    '''\n",
    "    text_list = []\n",
    "    \n",
    "    pred_indcies = np.argmax(predictions, axis=2)\n",
    "    \n",
    "    for i in range(pred_indcies.shape[0]):\n",
    "        ans = \"\"\n",
    "        \n",
    "        ## merge repeats\n",
    "        merged_list = [k for k,_ in groupby(pred_indcies[i])]\n",
    "        \n",
    "        ## remove blanks\n",
    "        for p in merged_list:\n",
    "            if p != len(char_list):\n",
    "                ans += char_list[int(p)]\n",
    "        \n",
    "        text_list.append(ans)\n",
    "        \n",
    "    return text_list"
   ]
  },
  {
   "cell_type": "code",
   "execution_count": null,
   "id": "c980ad7b",
   "metadata": {},
   "outputs": [],
   "source": [
    "figures_list = []\n",
    "\n",
    "class PlotPredictions(tf.keras.callbacks.Callback):\n",
    "\n",
    "    def __init__(self, frequency=1):\n",
    "        self.frequency = frequency\n",
    "        super(PlotPredictions, self).__init__()\n",
    "\n",
    "        batch = validation_dataset.take(1)\n",
    "        self.batch_images = list(batch.as_numpy_iterator())[0][\"image\"]\n",
    "        self.batch_labels = list(batch.as_numpy_iterator())[0][\"label\"]\n",
    "\n",
    "    def plot_predictions(self, epoch):\n",
    "\n",
    "        prediction_model = keras.models.Model(\n",
    "            self.model.get_layer(name=\"image\").input, \n",
    "            self.model.get_layer(name=\"dense\").output\n",
    "        )\n",
    "        \n",
    "        preds = prediction_model.predict(self.batch_images)\n",
    "        pred_texts = ctc_decoder(preds)\n",
    "\n",
    "        orig_texts = []\n",
    "\n",
    "        for label in self.batch_labels:\n",
    "            orig_texts.append(\"\".join([char_list[int(char_ind)] for char_ind in label if not(char_ind == len(char_list))]))\n",
    "\n",
    "        fig , ax = plt.subplots(4, 4, figsize=(15, 5))\n",
    "        fig.suptitle('Epoch: '+str(epoch), weight='bold', size=14)\n",
    "\n",
    "        for i in range(16):\n",
    "\n",
    "            img = (self.batch_images[i, :, :, 0] * 255).astype(np.uint8)\n",
    "            title = f\"Prediction: {pred_texts[i]}\"\n",
    "            ax[i // 4, i % 4].imshow(img, cmap=\"gray\")\n",
    "            ax[i // 4, i % 4].set_title(title)\n",
    "            ax[i // 4, i % 4].axis(\"off\")\n",
    "        \n",
    "        plt.show()\n",
    "        #plt.savefig(\"predictions_epoch_\"+ str(epoch)+'.png', bbox_inches = 'tight', pad_inches = 0)\n",
    "        \n",
    "        figures_list.append(fig)\n",
    "\n",
    "    def on_epoch_end(self, epoch, logs=None):\n",
    "        if epoch % self.frequency == 0:\n",
    "            self.plot_predictions(epoch)"
   ]
  },
  {
   "cell_type": "code",
   "execution_count": null,
   "id": "55921ee5",
   "metadata": {},
   "outputs": [],
   "source": [
    "def train(epochs):\n",
    "    \n",
    "    # input with shape of height=32 and width=128 \n",
    "    inputs = Input(shape=(32, 128, 1), name=\"image\")\n",
    "\n",
    "    labels = layers.Input(name=\"label\", shape=(None,), dtype=\"float32\")\n",
    "\n",
    "    conv_1 = Conv2D(32, (3,3), activation = \"selu\", padding='same')(inputs)\n",
    "    pool_1 = MaxPool2D(pool_size=(2, 2))(conv_1)\n",
    "    \n",
    "    conv_2 = Conv2D(64, (3,3), activation = \"selu\", padding='same')(pool_1)\n",
    "    pool_2 = MaxPool2D(pool_size=(2, 2))(conv_2)\n",
    "\n",
    "    conv_3 = Conv2D(128, (3,3), activation = \"selu\", padding='same')(pool_2)\n",
    "    conv_4 = Conv2D(128, (3,3), activation = \"selu\", padding='same')(conv_3)\n",
    "    \n",
    "    conv_5 = Conv2D(512, (3,3), activation = \"selu\", padding='same')(conv_4)\n",
    "    conv_6 = Conv2D(512, (3,3), activation = \"selu\", padding='same')(conv_5)\n",
    "    drop_out=tf.keras.layers.Dropout(0.2)(conv_6)\n",
    "    conv_7 = Conv2D(512, (3,3), activation = \"selu\", padding='same')(drop_out)\n",
    "    conv_8 = Conv2D(512, (3,3), activation = \"selu\", padding='same')(conv_7)\n",
    "\n",
    "    pool_4 = MaxPool2D(pool_size=(2, 1))(conv_8)\n",
    "    \n",
    "    conv_5 = Conv2D(256, (3,3), activation = \"selu\", padding='same')(pool_4)\n",
    "        \n",
    "    # Batch normalization layer\n",
    "    batch_norm_5 = BatchNormalization()(conv_5)\n",
    "    conv_6 = Conv2D(256, (3,3), activation = \"selu\", padding='same')(batch_norm_5)\n",
    "    batch_norm_6 = BatchNormalization()(conv_6)\n",
    "    pool_6 = MaxPool2D(pool_size=(2, 1))(batch_norm_6)\n",
    "    conv_7 = Conv2D(64, (2,2), activation = \"selu\")(pool_6)\n",
    "    squeezed = Lambda(lambda x: K.squeeze(x, 1))(conv_7)\n",
    "    \n",
    "    # bidirectional LSTM layers with units=128\n",
    "    blstm_1 = Bidirectional(CuDNNLSTM(128, return_sequences=True))(squeezed)\n",
    "    blstm_2 = Bidirectional(CuDNNLSTM(512, return_sequences=True))(blstm_1)\n",
    "    blstm_3 = Bidirectional(CuDNNLSTM(512, return_sequences=True))(blstm_2)\n",
    "    blstm_4 = Bidirectional(CuDNNLSTM(512, return_sequences=True))(blstm_3)\n",
    "    blstm_5 = Bidirectional(CuDNNLSTM(128, return_sequences=True))(blstm_4)\n",
    "    dense_=Dense(128,activation = 'relu')(blstm_5)\n",
    "    softmax_output = Dense(len(char_list) + 1, activation = 'softmax', name=\"dense\")(dense_)\n",
    "\n",
    "    output = CTCLayer(name=\"ctc_loss\",)(labels, softmax_output)\n",
    "\n",
    "\n",
    "    optimizer = Adam(lr=0.001, beta_1=0.9, beta_2=0.999, clipnorm=1.0)\n",
    "\n",
    "    #model to be used at training time\n",
    "    model = Model(inputs=[inputs, labels], outputs=output)\n",
    "    model.compile(optimizer = optimizer,metrics=[tf.keras.metrics.Accuracy()])\n",
    "\n",
    "    print(model.summary())\n",
    "    file_path = \"/kaggle/working/C_LSTM_best.hdf5\"\n",
    "    \n",
    "    checkpoint = ModelCheckpoint(filepath=file_path, \n",
    "                                monitor='val_loss', \n",
    "                                verbose=1, \n",
    "                                save_best_only=True, \n",
    "                                mode='min')\n",
    "\n",
    "#     callbacks_list = [checkpoint, \n",
    "#                       WandbCallback(monitor=\"val_loss\", \n",
    "#                                     mode=\"min\", \n",
    "#                                     log_weights=True),\n",
    "#                       PlotPredictions(frequency=1),\n",
    "#                       EarlyStopping(patience=3, verbose=1)]\n",
    "\n",
    "    history = model.fit(train_dataset, \n",
    "                        epochs = epochs,\n",
    "                        validation_data=validation_dataset,\n",
    "                        verbose = 1,\n",
    "                        shuffle=True)\n",
    "    \n",
    "    return model"
   ]
  },
  {
   "cell_type": "code",
   "execution_count": null,
   "id": "313ceb21",
   "metadata": {},
   "outputs": [],
   "source": [
    "# need to change the epoch\n",
    "model = train(epochs=100)"
   ]
  },
  {
   "cell_type": "code",
   "execution_count": null,
   "id": "a9b7ae98",
   "metadata": {},
   "outputs": [],
   "source": [
    "# Get the prediction model by extracting layers till the output layer\n",
    "prediction_model = keras.models.Model(\n",
    "    model.get_layer(name=\"image\").input, model.get_layer(name=\"dense\").output\n",
    ")\n",
    "prediction_model.summary()"
   ]
  },
  {
   "cell_type": "code",
   "execution_count": null,
   "id": "ee3f94bc",
   "metadata": {},
   "outputs": [],
   "source": [
    "#  Let's check results on some validation samples\n",
    "for batch in validation_dataset.take(1):\n",
    "\n",
    "    batch_images = batch[\"image\"]\n",
    "    batch_labels = batch[\"label\"]\n",
    "\n",
    "    preds = prediction_model.predict(batch_images)\n",
    "    pred_texts = ctc_decoder(preds)\n",
    "\n",
    "    orig_texts = []\n",
    "    for label in batch_labels:\n",
    "        label = tf.strings.reduce_join(num_to_char(label)).numpy().decode(\"utf-8\")\n",
    "        orig_texts.append(label)\n",
    "\n",
    "    fig , ax = plt.subplots(4, 4, figsize=(15, 5))\n",
    "    for i in range(16):\n",
    "\n",
    "        img = (batch_images[i, :, :, 0] * 255).numpy().astype(np.uint8)\n",
    "        title = f\"Prediction: {pred_texts[i]}\"\n",
    "        ax[i // 4, i % 4].imshow(img, cmap=\"gray\")\n",
    "        ax[i // 4, i % 4].set_title(title)\n",
    "        ax[i // 4, i % 4].axis(\"off\")\n",
    "        \n",
    "plt.show()"
   ]
  },
  {
   "cell_type": "code",
   "execution_count": null,
   "id": "3891e3a3",
   "metadata": {},
   "outputs": [],
   "source": [
    "\n",
    "\n",
    "def build_model(num_features):\n",
    "    \"\"\"Return a simple logistic regression model using the Keras Sequential API.\"\"\"\n",
    "  # Clear session and set a random seed for consistent behavior.\n",
    "    tf.keras.backend.clear_session()\n",
    "    tf.random.set_seed(1234)\n",
    "    \n",
    "\n",
    "  # Use Keras Sequential API to build a logistic regression\n",
    "    model = keras.Sequential()\n",
    "    \n",
    "    # create input layer\n",
    "    # input with shape of height=32 and width=128 \n",
    "    inputs = Input(shape=(32, 128, 1), name=\"image\")\n",
    "\n",
    "    labels = layers.Input(name=\"label\", shape=(None,), dtype=\"float32\")\n",
    "    \n",
    "    model.add(tf.keras.Input(shape=(num_features), name='image'))\n",
    "    \n",
    "    \n",
    "    \n",
    "    # create output layer\n",
    "    model.add(keras.layers.Dense(\n",
    "          units=21,  # remember it's a multiclass classification problem\n",
    "          use_bias=True,\n",
    "          activation='softmax', # remembeit's a multiclass classification problem\n",
    "          kernel_initializer=initializers.RandomNormal(stddev=0.01),\n",
    "          bias_initializer=initializers.RandomNormal(stddev=0.01),\n",
    "          name='Output'\n",
    "    ))\n",
    "  \n",
    "  # Use Categorical Crossentropy as our loss and the SGD optimizer.\n",
    "    model.compile(\n",
    "        loss=tf.keras.losses.SparseCategoricalCrossentropy(),\n",
    "        optimizer=tf.keras.optimizers.SGD(learning_rate=0.01),\n",
    "        metrics=['accuracy']\n",
    "    )\n",
    "    return model\n",
    "\n",
    "# Build a model\n",
    "model = build_model(num_features=(32,128,1))\n",
    "model.summary()"
   ]
  },
  {
   "cell_type": "code",
   "execution_count": null,
   "id": "eb1b817c",
   "metadata": {},
   "outputs": [],
   "source": [
    "tf.random.set_seed(1234)\n",
    "np.random.seed(1234)\n",
    "# Train model\n",
    "\n",
    "history = model.fit(train_dataset, \n",
    "                    validation_data=validation_dataset,\n",
    "                    epochs=1,\n",
    "                    verbose = 1,\n",
    "                    shuffle=True)"
   ]
  },
  {
   "cell_type": "code",
   "execution_count": null,
   "id": "11348ac4",
   "metadata": {},
   "outputs": [],
   "source": []
  }
 ],
 "metadata": {
  "kernelspec": {
   "display_name": "pycaret",
   "language": "python",
   "name": "pycaret"
  },
  "language_info": {
   "codemirror_mode": {
    "name": "ipython",
    "version": 3
   },
   "file_extension": ".py",
   "mimetype": "text/x-python",
   "name": "python",
   "nbconvert_exporter": "python",
   "pygments_lexer": "ipython3",
   "version": "3.8.12"
  }
 },
 "nbformat": 4,
 "nbformat_minor": 5
}
