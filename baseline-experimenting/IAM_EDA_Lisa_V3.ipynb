{
 "cells": [
  {
   "cell_type": "code",
   "execution_count": 1,
   "id": "e640dc27",
   "metadata": {},
   "outputs": [],
   "source": [
    "# !pip install opencv-python"
   ]
  },
  {
   "cell_type": "code",
   "execution_count": 2,
   "id": "5ced31d3",
   "metadata": {},
   "outputs": [],
   "source": [
    "# #To visualize text in graph\n",
    "# !pip install scattertext"
   ]
  },
  {
   "cell_type": "code",
   "execution_count": 1,
   "id": "4a73071f",
   "metadata": {},
   "outputs": [],
   "source": [
    "import os\n",
    "os.environ['TF_CPP_MIN_LOG_LEVEL'] = '3'\n",
    "\n",
    "\n",
    "import cv2\n",
    "import numpy as np\n",
    "from numpy import argmax\n",
    "import string\n",
    "import pandas as pd\n",
    "import matplotlib.pyplot as plt\n",
    "import seaborn as sns\n",
    "from wordcloud import WordCloud # visualization\n",
    "import os, time\n",
    "import imageio # use imread function to read the image\n",
    "\n",
    "\n",
    "import tensorflow as tf\n",
    "tf.compat.v1.logging.set_verbosity(tf.compat.v1.logging.ERROR)\n",
    "import tensorflow.keras.backend as K\n",
    "\n",
    "from tensorflow import keras\n",
    "from tensorflow.keras import layers\n",
    "\n",
    "from tensorflow.keras.preprocessing.sequence import pad_sequences\n",
    "from tensorflow.keras.layers import Dense, Reshape, BatchNormalization, Input, Conv2D, MaxPool2D, Lambda, Bidirectional\n",
    "from tensorflow.compat.v1.keras.layers import CuDNNLSTM\n",
    "from tensorflow.keras.models import Model\n",
    "from tensorflow.keras.optimizers import *\n",
    "from tensorflow.keras.utils import to_categorical, Sequence\n",
    "from tensorflow.keras.callbacks import ModelCheckpoint, EarlyStopping\n",
    "from tensorflow.keras.preprocessing.image import ImageDataGenerator, array_to_img, img_to_array, load_img\n",
    "from tqdm import tqdm\n",
    "from collections import Counter\n",
    "from PIL import Image\n",
    "from itertools import groupby\n",
    "from tensorflow.keras import initializers\n",
    "from tensorflow.python.keras.utils.layer_utils import count_params\n",
    "\n",
    "# import wandb\n",
    "# from wandb.keras import WandbCallback"
   ]
  },
  {
   "cell_type": "markdown",
   "id": "a1538407",
   "metadata": {},
   "source": [
    "### Data Preprocessing"
   ]
  },
  {
   "cell_type": "code",
   "execution_count": 2,
   "id": "5c73138a",
   "metadata": {},
   "outputs": [],
   "source": [
    "''''\n",
    "Read the text document and use the text document to generate the path to the images\n",
    "For all the \"ok\" status, proceed to generate the text\n",
    "'''\n",
    "\n",
    "base_path = \"data\"\n",
    "# words_list = []\n",
    "\n",
    "# words = open(f\"{base_path}/words.txt\", \"r\").readlines()\n",
    "\n",
    "file_path=f\"{base_path}/words.txt\"\n",
    "file_path_2=f\"{base_path}\\\\words\"\n",
    "# file_path=\"../input/iam-handwriting-word-database/words_new.txt\"\n",
    "with open(file_path) as f:\n",
    "    lines = f.readlines()\n",
    "\n",
    "label_raw=lines[18:]\n",
    "\n",
    "image_texts =[]\n",
    "image_paths =[]\n",
    "\n",
    "default_path=file_path_2\n",
    "# default_path=\"../input/iam-handwriting-word-database/iam_words/words/\"\n",
    "for label in label_raw:\n",
    "  if label.split()[1]==\"ok\":\n",
    "    image_texts.append(label.split()[-1])\n",
    "    image_paths.append(default_path+\"\\\\\"+label.split()[0].split(\"-\")[0]+\"\\\\\"+label.split()[0].split(\"-\")[0]+\"-\"+label.split()[0].split(\"-\")[1]+\"\\\\\"+label.split()[0]+\".png\")"
   ]
  },
  {
   "cell_type": "code",
   "execution_count": 3,
   "id": "7d197f65",
   "metadata": {},
   "outputs": [
    {
     "name": "stdout",
     "output_type": "stream",
     "text": [
      "Length of image_texts 96456\n",
      "Length of image_paths 96456\n"
     ]
    }
   ],
   "source": [
    "#Print the total size of the images (paths) and labels (texts)\n",
    "print(\"Length of image_texts\", len(image_texts))\n",
    "print(\"Length of image_paths\", len(image_paths))"
   ]
  },
  {
   "cell_type": "code",
   "execution_count": 4,
   "id": "538c4160",
   "metadata": {},
   "outputs": [
    {
     "data": {
      "text/plain": [
       "'data\\\\words\\\\a01\\\\a01-000u\\\\a01-000u-00-01.png'"
      ]
     },
     "execution_count": 4,
     "metadata": {},
     "output_type": "execute_result"
    }
   ],
   "source": [
    "image_paths[1]"
   ]
  },
  {
   "cell_type": "code",
   "execution_count": 6,
   "id": "46199705",
   "metadata": {},
   "outputs": [
    {
     "data": {
      "image/png": "[encoded data removed]",
      "text/plain": [
       "<PIL.Image.Image image mode=RGB size=213x48 at 0x199F072F100>"
      ]
     },
     "metadata": {},
     "output_type": "display_data"
    },
    {
     "name": "stdout",
     "output_type": "stream",
     "text": [
      "Label: MOVE\n",
      "Image_1 shape(height, width, channel): (48, 213, 1)\n",
      "Image_1 data type: <dtype: 'uint8'>\n"
     ]
    }
   ],
   "source": [
    "#Using one example to learn about the image and data structure \n",
    "display(load_img(image_paths[1]))\n",
    "print(\"Label:\", image_texts[1])\n",
    "img_1_raw = tf.io.read_file(image_paths[1])\n",
    "img_1 = tf.image.decode_image(img_1_raw)\n",
    "# print(img_1)\n",
    "print('Image_1 shape(height, width, channel):', img_1.shape)\n",
    "print('Image_1 data type:', img_1.dtype)\n",
    "#img_1.shape shows height and weight"
   ]
  },
  {
   "cell_type": "code",
   "execution_count": 7,
   "id": "87258f7f",
   "metadata": {},
   "outputs": [
    {
     "name": "stdout",
     "output_type": "stream",
     "text": [
      "Image Shape (48, 213)\n"
     ]
    }
   ],
   "source": [
    "# understand the image shape and channel using the imageio imread function\n",
    "im = imageio.imread(image_paths[1])\n",
    "print('Image Shape', im.shape)"
   ]
  },
  {
   "cell_type": "code",
   "execution_count": 8,
   "id": "9328eb25",
   "metadata": {},
   "outputs": [],
   "source": [
    "#Check for any corrupted images\n",
    "corrupt_images = []\n",
    "\n",
    "for path in image_paths:\n",
    "    try:\n",
    "        img = cv2.cvtColor(cv2.imread(path), cv2.COLOR_BGR2GRAY)\n",
    "    except:\n",
    "        corrupt_images.append(path)"
   ]
  },
  {
   "cell_type": "code",
   "execution_count": 81,
   "id": "7b7753c2",
   "metadata": {},
   "outputs": [
    {
     "data": {
      "text/plain": [
       "(['data\\\\words\\\\a01\\\\a01-117\\\\a01-117-05-02.png',\n",
       "  'data\\\\words\\\\r06\\\\r06-022\\\\r06-022-03-05.png'],\n",
       " 2)"
      ]
     },
     "execution_count": 81,
     "metadata": {},
     "output_type": "execute_result"
    }
   ],
   "source": [
    "# Two corrupted images identified\n",
    "corrupt_images, len(corrupt_images)"
   ]
  },
  {
   "cell_type": "code",
   "execution_count": 10,
   "id": "0e6f8c76",
   "metadata": {},
   "outputs": [
    {
     "name": "stdout",
     "output_type": "stream",
     "text": [
      "3600\n"
     ]
    }
   ],
   "source": [
    "# identify the index of the corrupted image\n",
    "corrupt_index_1 = image_paths.index('data\\\\words\\\\a01\\\\a01-117\\\\a01-117-05-02.png')\n",
    "print(corrupt_index_1)\n",
    "\n",
    "# remove the first corrupted image path and text (label): 'data\\\\words\\\\a01\\\\a01-117\\\\a01-117-05-02.png'\n",
    "del image_paths[3600]\n",
    "del image_texts[3600]"
   ]
  },
  {
   "cell_type": "code",
   "execution_count": 11,
   "id": "11ed21f4",
   "metadata": {},
   "outputs": [
    {
     "name": "stdout",
     "output_type": "stream",
     "text": [
      "94928\n"
     ]
    }
   ],
   "source": [
    "# identify the index of the corrupted image\n",
    "corrupt_index_2 = image_paths.index('data\\\\words\\\\r06\\\\r06-022\\\\r06-022-03-05.png')\n",
    "print(corrupt_index_2)\n",
    "\n",
    "# remove the first corrupted impage:'data\\\\words\\\\r06\\\\r06-022\\\\r06-022-03-05.png'\n",
    "del image_paths[94928]\n",
    "del image_texts[94928]"
   ]
  },
  {
   "cell_type": "code",
   "execution_count": 82,
   "id": "fa3cf016",
   "metadata": {},
   "outputs": [
    {
     "name": "stdout",
     "output_type": "stream",
     "text": [
      "Remaing Length of image_texts 96454\n",
      "Remaing Length of image_paths 96454\n"
     ]
    }
   ],
   "source": [
    "# Remaining data\n",
    "print(\"Remaing Length of image_texts\", len(image_texts))\n",
    "print(\"Remaing Length of image_paths\", len(image_paths))"
   ]
  },
  {
   "cell_type": "markdown",
   "id": "f3e1ae35",
   "metadata": {},
   "source": [
    "### Data Exploration"
   ]
  },
  {
   "cell_type": "code",
   "execution_count": 83,
   "id": "52ae158c",
   "metadata": {},
   "outputs": [
    {
     "data": {
      "text/plain": [
       "['A', 'MOVE', 'to', 'stop', 'Mr.']"
      ]
     },
     "execution_count": 83,
     "metadata": {},
     "output_type": "execute_result"
    }
   ],
   "source": [
    "# Extract the texts from the image_texts list\n",
    "def clean_labels(labels):\n",
    "    cleaned_labels = []\n",
    "    for label in labels:\n",
    "        label = label.split(\" \")[-1].strip()\n",
    "        cleaned_labels.append(label)\n",
    "    return cleaned_labels\n",
    "\n",
    "labels_cleaned = clean_labels(image_texts)\n",
    "\n",
    "#print the first two clean labels\n",
    "labels_cleaned[:5]"
   ]
  },
  {
   "cell_type": "code",
   "execution_count": 84,
   "id": "6e4fc3a1",
   "metadata": {},
   "outputs": [
    {
     "name": "stdout",
     "output_type": "stream",
     "text": [
      "The count of unique labels is 12214\n"
     ]
    }
   ],
   "source": [
    "# Find out the number of unique labels\n",
    "unique_labels =set(labels_cleaned)\n",
    "print(\"The count of unique labels is\", len(unique_labels))"
   ]
  },
  {
   "cell_type": "code",
   "execution_count": 85,
   "id": "0e2c16e7",
   "metadata": {},
   "outputs": [
    {
     "name": "stdout",
     "output_type": "stream",
     "text": [
      "The longest text in the labels is: plate-and-corrugation , with a total length of 21\n"
     ]
    }
   ],
   "source": [
    "longest_text = ''\n",
    "length_text =0\n",
    "for txt in labels_cleaned:\n",
    "    if len(txt)>length_text:\n",
    "        length_text=len(txt)\n",
    "        longest_text= txt\n",
    "    \n",
    "print(\"The longest text in the labels is:\", longest_text,', with a total length of', length_text)"
   ]
  },
  {
   "cell_type": "markdown",
   "id": "86db18d9",
   "metadata": {},
   "source": [
    "#### There are 12,214 unique text labels in the dataset.  We can develop a model to predict by each whole label.  Alternatively, we can treat each label as a combination of the letters and symbols, and train a model to identify the underlying letters and symbols.\n",
    "\n",
    "Let's find out what the total count of the underlying letters and symbols that are common to our text labels"
   ]
  },
  {
   "cell_type": "markdown",
   "id": "741873e2",
   "metadata": {},
   "source": [
    "#### Build a vocabulary of all the unique texts in our dataset"
   ]
  },
  {
   "cell_type": "code",
   "execution_count": 86,
   "id": "755b7567",
   "metadata": {},
   "outputs": [
    {
     "name": "stdout",
     "output_type": "stream",
     "text": [
      "The list of common letters and symbols in our labels are:\n",
      " ['!', '\"', '#', '&', \"'\", '(', ')', '*', '+', ',', '-', '.', '/', '0', '1', '2', '3', '4', '5', '6', '7', '8', '9', ':', ';', '?', 'A', 'B', 'C', 'D', 'E', 'F', 'G', 'H', 'I', 'J', 'K', 'L', 'M', 'N', 'O', 'P', 'Q', 'R', 'S', 'T', 'U', 'V', 'W', 'X', 'Y', 'Z', 'a', 'b', 'c', 'd', 'e', 'f', 'g', 'h', 'i', 'j', 'k', 'l', 'm', 'n', 'o', 'p', 'q', 'r', 's', 't', 'u', 'v', 'w', 'x', 'y', 'z']\n",
      "\n",
      "The max length of the labels is 21\n",
      "\n",
      "The total count of the common letters and symbols is  78\n"
     ]
    }
   ],
   "source": [
    "# get vocabulary for the current dataset\n",
    "vocab = set(\"\".join(map(str, image_texts)))\n",
    "print('The list of common letters and symbols in our labels are:\\n', sorted(vocab))\n",
    "\n",
    "#get the max length of any text\n",
    "max_label_len = max([len(str(text)) for text in image_texts])\n",
    "print(\"\\nThe max length of the labels is\", max_label_len)\n",
    "print(\"\\nThe total count of the common letters and symbols is \", len(vocab))"
   ]
  },
  {
   "cell_type": "markdown",
   "id": "22706624",
   "metadata": {},
   "source": [
    "#### Compared to the 12,214 unque text labels, there are only 78 uniqe letters and symbols underlying all labels.   It may be much more efficient to train a model to recognize the letters and symbols that form a text.  The model may generalize better as well."
   ]
  },
  {
   "cell_type": "code",
   "execution_count": 87,
   "id": "fc6bee21",
   "metadata": {},
   "outputs": [],
   "source": [
    "#Indentify the most popular texts or symbols\n",
    "label_dict = {}\n",
    "for x in labels_cleaned:\n",
    "    if x in label_dict:        \n",
    "        label_dict[x] += 1\n",
    "    else:\n",
    "        label_dict[x] = 1\n",
    "sorted_label_dict = {key: value for (key, value) in sorted(label_dict.items(), key=lambda x: x[1], reverse=True)}\n",
    "most_popular_15 = list(sorted_label_dict.keys())[:15]\n",
    "# most_popular_15\n",
    "df_dict = pd.DataFrame(sorted_label_dict.items())\n",
    "df_dict.columns=['Text', \"Count\"] \n",
    "df_dict['Percent_total'] = df_dict['Count']/df_dict['Count'].sum()*100 \n",
    "df_dict_top_30 = df_dict[:30]"
   ]
  },
  {
   "cell_type": "markdown",
   "id": "4a54a158",
   "metadata": {},
   "source": [
    "### Show the top 30 most popular texts"
   ]
  },
  {
   "cell_type": "code",
   "execution_count": 102,
   "id": "c76f36ce",
   "metadata": {},
   "outputs": [
    {
     "data": {
      "image/png": "[encoded data removed]",
      "text/plain": [
       "<Figure size 864x432 with 1 Axes>"
      ]
     },
     "metadata": {
      "needs_background": "light"
     },
     "output_type": "display_data"
    }
   ],
   "source": [
    "word_could_dict = label_dict\n",
    "mask = np.array(Image.open(\"..\\\\w207_Projects\\\\note.JFIF\"))\n",
    "wordcloud = WordCloud(width = 1000, height = 500, max_words=30, mask=mask, \n",
    "                      background_color='white').generate_from_frequencies(word_could_dict)\n",
    "\n",
    "plt.figure(figsize=(12,6))\n",
    "plt.imshow(wordcloud)\n",
    "# plt.imshow(wordcloud, interpolation='bilinear')\n",
    "plt.axis(\"off\")\n",
    "plt.tight_layout(pad = 0)\n",
    "\n",
    "# store to file\n",
    "plt.savefig(\"top_30.png\", format=\"png\")\n",
    "plt.show()"
   ]
  },
  {
   "cell_type": "code",
   "execution_count": 253,
   "id": "b4145b07",
   "metadata": {},
   "outputs": [
    {
     "data": {
      "image/png": "[encoded data removed]",
      "text/plain": [
       "<Figure size 864x576 with 1 Axes>"
      ]
     },
     "metadata": {
      "needs_background": "light"
     },
     "output_type": "display_data"
    }
   ],
   "source": [
    "plt.figure(figsize=(12,8))\n",
    "ax = sns.barplot(x = df_dict_top_30['Text'],\n",
    "            y = df_dict_top_30['Percent_total'],\n",
    "            data = df_dict_top_30)\n",
    "ax.set(xlabel='Top 30 Most Popular Texts', ylabel='% of Total Text Count')\n",
    "plt.title(\"Top 30 Texts by Count Frequency\")\n",
    "plt.show("
   ]
  },
  {
   "cell_type": "code",
   "execution_count": null,
   "id": "5d874fe4",
   "metadata": {},
   "outputs": [],
   "source": []
  },
  {
   "cell_type": "markdown",
   "id": "17257a18",
   "metadata": {},
   "source": [
    "#### Function to encode the labels, and function to inverse encoding back to text label"
   ]
  },
  {
   "cell_type": "code",
   "execution_count": 25,
   "id": "bcf1c65a",
   "metadata": {},
   "outputs": [],
   "source": [
    "char_list = sorted(vocab)\n",
    "\n",
    "\n",
    "def encode_to_labels(txt):\n",
    "    # encoding each output word into digits\n",
    "    dig_lst = []\n",
    "    \n",
    "    for index, char in enumerate(txt):\n",
    "        try:\n",
    "            dig_lst.append(char_list.index(char))\n",
    "        except:\n",
    "            print(char)\n",
    "    #pad_sequences will fill in digit 78 (len(char_list)) to reach the max length of len(char_list) for each text label\n",
    "    return pad_sequences([dig_lst], maxlen=max_label_len, padding='post', value=len(char_list))[0]\n",
    "\n",
    "def inverse_encode(dig_y):\n",
    "    word=\"\"\n",
    "    for i in range(len(dig_y)):\n",
    "        # 21 elements in each encode_to_labels\n",
    "        for j in range(21):\n",
    "            if dig_y[i][j]!=78:\n",
    "                char = char_list[dig_y[i]]\n",
    "                word+=char\n",
    "    return word"
   ]
  },
  {
   "cell_type": "code",
   "execution_count": 26,
   "id": "88fce3c2",
   "metadata": {},
   "outputs": [
    {
     "data": {
      "text/plain": [
       "array([38, 40, 47, 30, 78, 78, 78, 78, 78, 78, 78, 78, 78, 78, 78, 78, 78,\n",
       "       78, 78, 78, 78])"
      ]
     },
     "execution_count": 26,
     "metadata": {},
     "output_type": "execute_result"
    }
   ],
   "source": [
    "padded_image_texts = list(map(encode_to_labels, image_texts))\n",
    "\n",
    "padded_image_texts[1]"
   ]
  },
  {
   "cell_type": "code",
   "execution_count": null,
   "id": "83a1dd6a",
   "metadata": {},
   "outputs": [],
   "source": []
  },
  {
   "cell_type": "code",
   "execution_count": null,
   "id": "885a3c80",
   "metadata": {},
   "outputs": [],
   "source": [
    "# # use 90/10 train/test split to speed up training time\n",
    "\n",
    "# train_image_paths = image_paths[ : int(len(image_paths) * 0.90)]\n",
    "# train_image_texts = padded_image_texts[ : int(len(image_texts) * 0.90)]\n",
    "\n",
    "# val_image_paths = image_paths[int(len(image_paths) * 0.90) : ]\n",
    "# val_image_texts = padded_image_texts[int(len(image_texts) * 0.90) : ]\n",
    "\n",
    "# #validate\n",
    "# len(image_paths) ==len(val_image_paths)+len(train_image_paths)"
   ]
  },
  {
   "cell_type": "code",
   "execution_count": 121,
   "id": "31aab5fd",
   "metadata": {},
   "outputs": [
    {
     "name": "stdout",
     "output_type": "stream",
     "text": [
      "A\n",
      "(27, 51)\n"
     ]
    },
    {
     "data": {
      "image/png": "[encoded data removed]",
      "text/plain": [
       "<PIL.Image.Image image mode=RGB size=27x51 at 0x19C1A1DC700>"
      ]
     },
     "metadata": {},
     "output_type": "display_data"
    },
    {
     "name": "stdout",
     "output_type": "stream",
     "text": [
      "---------------------------\n",
      "MOVE\n",
      "(213, 48)\n"
     ]
    },
    {
     "data": {
      "image/png": "[encoded data removed]",
      "text/plain": [
       "<PIL.Image.Image image mode=RGB size=213x48 at 0x19C16C08610>"
      ]
     },
     "metadata": {},
     "output_type": "display_data"
    },
    {
     "name": "stdout",
     "output_type": "stream",
     "text": [
      "---------------------------\n",
      "to\n",
      "(70, 50)\n"
     ]
    },
    {
     "data": {
      "image/png": "[encoded data removed]",
      "text/plain": [
       "<PIL.Image.Image image mode=RGB size=70x50 at 0x19C1A2177C0>"
      ]
     },
     "metadata": {},
     "output_type": "display_data"
    },
    {
     "name": "stdout",
     "output_type": "stream",
     "text": [
      "---------------------------\n",
      "stop\n",
      "(166, 78)\n"
     ]
    },
    {
     "data": {
      "image/png": "[encoded data removed]",
      "text/plain": [
       "<PIL.Image.Image image mode=RGB size=166x78 at 0x19C1A1DC7F0>"
      ]
     },
     "metadata": {},
     "output_type": "display_data"
    },
    {
     "name": "stdout",
     "output_type": "stream",
     "text": [
      "---------------------------\n",
      "The max width of all images is: 213 \n",
      "The max height of all images is: 78\n"
     ]
    }
   ],
   "source": [
    "#show the first five images\n",
    "max_img_width = 0\n",
    "max_img_height = 0\n",
    "\n",
    "for i in range(4):\n",
    "    image = image_paths[i]\n",
    "    label = image_texts[i]\n",
    "    print(label)\n",
    "    size = load_img(image).size\n",
    "    if size[0] > max_img_width:\n",
    "        max_img_width = size[0]\n",
    "    if size[1] > max_img_height:\n",
    "        max_img_height = size[1]\n",
    "    print(size)\n",
    "    display(load_img(image))\n",
    "    print(\"---------------------------\")\n",
    "print(\"The max width of all images is:\", max_img_width, \"\\nThe max height of all images is:\", max_img_height)"
   ]
  },
  {
   "cell_type": "code",
   "execution_count": 157,
   "id": "20f2536e",
   "metadata": {},
   "outputs": [
    {
     "data": {
      "image/png": "[encoded data removed]",
      "text/plain": [
       "<Figure size 864x720 with 5 Axes>"
      ]
     },
     "metadata": {
      "needs_background": "light"
     },
     "output_type": "display_data"
    }
   ],
   "source": [
    "#1 Display 5 images with true label \"shirt\", but predicted label \"coat\" (false negatives for the \"shirt\" class).\n",
    "def plot_images(image_paths, image_texts, index):\n",
    "    \"\"\"\n",
    "    Display a number of images\n",
    "    \"\"\"\n",
    "    fig, axs = plt.subplots(nrows=1, ncols=5, figsize=(12,10))\n",
    "    \n",
    "    for i in range(index):\n",
    "        image = image_paths[i+1]\n",
    "        label = image_texts[i+1]\n",
    "        size = load_img(image).size\n",
    "        label_name = label\n",
    "        axs[i].imshow(load_img(image))\n",
    "        axs[i].set_title(label_name, y=1, pad=15)\n",
    "#         axs[i].axis('off')\n",
    "    plt.show()    \n",
    "  \n",
    "plot_images(image_paths, image_texts, 5)"
   ]
  },
  {
   "cell_type": "code",
   "execution_count": 156,
   "id": "413d7088",
   "metadata": {},
   "outputs": [
    {
     "data": {
      "image/png": "[encoded data removed]",
      "text/plain": [
       "<Figure size 864x720 with 5 Axes>"
      ]
     },
     "metadata": {
      "needs_background": "light"
     },
     "output_type": "display_data"
    }
   ],
   "source": [
    "# resize to target size of 32 (height) and 128 (width) to standalize the image size\n",
    "\n",
    "def resize_display_img(image_paths, image_texts, index):\n",
    "    \"\"\"\n",
    "    Resize and display a number of images\n",
    "    \"\"\"\n",
    "    fig, axs = plt.subplots(nrows=1, ncols=5, figsize=(12,10))    \n",
    "    for i in range(index):\n",
    "        image = image_paths[i+1]\n",
    "        label = image_texts[i+1]\n",
    "        label_name = \"Resized \" + label\n",
    "        axs[i].imshow(load_img(image,target_size=(32,128)))\n",
    "        axs[i].set_title(label_name)\n",
    "#         axs[i].axis('off')\n",
    "    plt.show()    \n",
    "resize_display_img(image_paths, image_texts, 5)"
   ]
  },
  {
   "cell_type": "code",
   "execution_count": 30,
   "id": "c6051423",
   "metadata": {},
   "outputs": [
    {
     "data": {
      "text/plain": [
       "array([38, 40, 47, 30, 78, 78, 78, 78, 78, 78, 78, 78, 78, 78, 78, 78, 78,\n",
       "       78, 78, 78, 78])"
      ]
     },
     "execution_count": 30,
     "metadata": {},
     "output_type": "execute_result"
    }
   ],
   "source": [
    "img = load_img(image_paths[4],target_size=(32, 128))\n",
    "      \n",
    "# transform image to array\n",
    "img = img_to_array(img)\n",
    "\n",
    "# stack images and trasnform to array\n",
    "# images_stact = np.stack(images_mini)\n",
    "y_lab = np.array(padded_image_texts[1]).flatten() \n",
    "y_lab"
   ]
  },
  {
   "cell_type": "code",
   "execution_count": 31,
   "id": "ca2d6de7",
   "metadata": {},
   "outputs": [
    {
     "data": {
      "text/plain": [
       "96454"
      ]
     },
     "execution_count": 31,
     "metadata": {},
     "output_type": "execute_result"
    }
   ],
   "source": [
    "len(padded_image_texts)"
   ]
  },
  {
   "cell_type": "code",
   "execution_count": 32,
   "id": "353d8a6d",
   "metadata": {},
   "outputs": [],
   "source": [
    "def preprocess_data_part1(IMAGE_PATH, LABEL_PATH):\n",
    "    \"\"\" Generate lists of images and labelsbased on temp_no_refer and temp_refer lists\n",
    "    \n",
    "    Params:\n",
    "    -------\n",
    "    IMAGE_PATH (str): path to directory with images.\n",
    "    LABEL_PATH (str): path to directory with labels.\n",
    "    \n",
    "    Returns:\n",
    "    --------\n",
    "    images_mini  (np.ndarray): Images of shape (N, 224, 224, 3)\n",
    "    y_mini (np.ndarray): Labels of shape (N,)    \n",
    "    \"\"\"\n",
    "    y_update = []\n",
    "    images_update = []\n",
    "\n",
    "    # create lists of images and labels `images_mini` and `y_mini` \n",
    "    # based on temp_no_refer and temp_refer selections\n",
    "    for img in IMAGE_PATH:\n",
    "        # read image\n",
    "        img = load_img(image_paths[4],target_size=(32, 128))\n",
    "        \n",
    "        # transform image to array\n",
    "        img = img_to_array(img)\n",
    "        \n",
    "        # append to images\n",
    "        images_update.append(img)\n",
    "\n",
    "    # stack images and trasnform to array\n",
    "    images_update = np.stack(images_update)\n",
    "#     y_update = np.array(LABEL_PATH).flatten()\n",
    "    y_update = np.array(LABEL_PATH)  # did not flatten as it is multi output (21) for each label \n",
    "    \n",
    "    return images_update, y_update"
   ]
  },
  {
   "cell_type": "code",
   "execution_count": 33,
   "id": "49f39c91",
   "metadata": {},
   "outputs": [
    {
     "name": "stdout",
     "output_type": "stream",
     "text": [
      "images_update shape (96454, 32, 128, 3)\n",
      "y_update shape (96454, 21)\n"
     ]
    }
   ],
   "source": [
    "# generate images and labels based on preprocess_data_part1() function\n",
    "images_update, y_update = preprocess_data_part1(image_paths, padded_image_texts)\n",
    "\n",
    "print(f\"images_update shape {images_update.shape}\")\n",
    "print(f\"y_update shape {y_update.shape}\")"
   ]
  },
  {
   "cell_type": "code",
   "execution_count": 34,
   "id": "38e7cb7a",
   "metadata": {},
   "outputs": [],
   "source": [
    "def process_single_sample(img_path, label):\n",
    "\n",
    "    # 1. Read image\n",
    "    img = tf.io.read_file(img_path)\n",
    "\n",
    "    # 2. Decode and convert to grayscale\n",
    "    img = tf.io.decode_png(img, channels=1)\n",
    "\n",
    "    # 3. Convert to float32 i+n [0, 1] range\n",
    "    img = tf.image.convert_image_dtype(img, tf.float32)\n",
    "\n",
    "    # 4. Resize to the desired size\n",
    "    img = tf.image.resize(img, [32, 128])\n",
    "    \n",
    "#     img = tf.transpose(img, perm=[1, 0, 2])\n",
    "    return {\"image\": img, \"label\": label}"
   ]
  },
  {
   "cell_type": "code",
   "execution_count": null,
   "id": "fd6a34bc",
   "metadata": {},
   "outputs": [],
   "source": []
  },
  {
   "cell_type": "code",
   "execution_count": 52,
   "id": "4744446c",
   "metadata": {},
   "outputs": [
    {
     "data": {
      "text/plain": [
       "(32, 128, 3)"
      ]
     },
     "execution_count": 52,
     "metadata": {},
     "output_type": "execute_result"
    }
   ],
   "source": [
    "images_update[1].shape"
   ]
  },
  {
   "cell_type": "markdown",
   "id": "4b3c355f",
   "metadata": {},
   "source": [
    "### Preprocessing: Image transformation and augmentation"
   ]
  },
  {
   "cell_type": "code",
   "execution_count": 36,
   "id": "db071f52",
   "metadata": {},
   "outputs": [
    {
     "data": {
      "image/png": "[encoded data removed]",
      "text/plain": [
       "<Figure size 1008x864 with 5 Axes>"
      ]
     },
     "metadata": {
      "needs_background": "light"
     },
     "output_type": "display_data"
    }
   ],
   "source": [
    "# use one example\n",
    "tf.random.set_seed(1234)\n",
    "\n",
    "fig = plt.figure(figsize=(14, 12))\n",
    "\n",
    "# pull first image from data\n",
    "image = load_img(image_paths[1])\n",
    "\n",
    "# plot original\n",
    "ax = fig.add_subplot(1, 5, 1)\n",
    "ax.imshow(image)\n",
    "ax.set_title('Original', size=15);\n",
    "\n",
    "#test the image transformation\n",
    "img_io = tf.io.read_file(image_paths[1])\n",
    "\n",
    "# # 2. Decode and convert to grayscale\n",
    "img_io = tf.io.decode_png(img_io, channels=1)\n",
    "\n",
    "# 3. Convert to float32 in [0, 1] range\n",
    "img_io = tf.image.convert_image_dtype(img_io, tf.float32)\n",
    "\n",
    "# resize\n",
    "ax = fig.add_subplot(1, 5, 2)\n",
    "img_resize = tf.image.resize(img_io, size=(32, 128))\n",
    "ax.imshow(array_to_img(img_resize))\n",
    "ax.set_title('Step 1: Resize', size=15);\n",
    "\n",
    "# adjust brightness\n",
    "ax = fig.add_subplot(1, 5, 3)\n",
    "img_bright = tf.image.adjust_brightness(img_resize, 0.3)\n",
    "ax.imshow(array_to_img(img_bright))\n",
    "ax.set_title('Step 2: Brightness', size=15);\n",
    "\n",
    "\n",
    "# adjust contrast\n",
    "ax = fig.add_subplot(1, 5, 4)\n",
    "img_contrast = tf.image.adjust_contrast(img_bright, contrast_factor=3)\n",
    "ax.imshow(array_to_img(img_contrast))\n",
    "ax.set_title('Step 3: Contrast', size=15);\n",
    "\n",
    "\n",
    "# flip left right\n",
    "ax = fig.add_subplot(1, 5, 5)\n",
    "img_flip = tf.image.flip_left_right(img_contrast)\n",
    "ax.imshow(array_to_img(img_flip))\n",
    "ax.set_title('Step 4: Flip left right', size=15);"
   ]
  },
  {
   "cell_type": "code",
   "execution_count": null,
   "id": "75196406",
   "metadata": {},
   "outputs": [],
   "source": [
    "# # same function but applies to the entire image path\n",
    "# def process_group_sample(image_path):\n",
    "    \n",
    "#     img_path = []\n",
    "\n",
    "#     for i in range(len(image_path)):\n",
    "#         img = tf.io.read_file(image_path[i])\n",
    "\n",
    "#         # 2. Decode and convert to grayscale\n",
    "#         img = tf.io.decode_png(img, channels=1)\n",
    "\n",
    "#         # 3. Convert to float32 in [0, 1] range\n",
    "#         img = tf.image.convert_image_dtype(img, tf.float32)\n",
    "\n",
    "#         # 4. Resize to the desired size\n",
    "#         img = tf.image.resize(img, [32, 128])\n",
    "    \n",
    "#         img_path.append(img)\n",
    "#         #     print(img_path)\n",
    "#     return img_path"
   ]
  },
  {
   "cell_type": "code",
   "execution_count": 53,
   "id": "b6ad8614",
   "metadata": {},
   "outputs": [],
   "source": [
    "IMAGE_SIZE = (32, 128)\n",
    "CONTRAST_FACTOR = 3\n",
    "DELTA = 0.3\n",
    "\n",
    "def preprocess_data_part2(images, y, split=(0.6,0.2,0.2)):\n",
    "    \"\"\" Split data into train, validation and test sets; apply transformaions and augmentations\n",
    "    \n",
    "    Params:\n",
    "    -------\n",
    "    images  (np.ndarray): Images of shape (N, 224, 224, 3)  # need to update the shape\n",
    "    y (np.ndarray): Labels of shape (N,)   \n",
    "    split (tuple): 3 values summing to 1 defining split of train, validation and test sets\n",
    "    \n",
    "    Returns:\n",
    "    --------\n",
    "    X_train (np.ndarray): Train images of shape (N_train, 224, 224, 3)\n",
    "    y_train (np.ndarray): Train labels of shape (N_train,)\n",
    "    X_val (np.ndarray): Val images of shape (N_val, 224, 224, 3)\n",
    "    y_val (np.ndarray): Val labels of shape (N_val,)\n",
    "    X_test (np.ndarray): Test images of shape (N_test, 224, 224, 3)\n",
    "    y_test (np.ndarray): Test labels of shape (N_test,)\n",
    "    \n",
    "    \"\"\"\n",
    "    \n",
    "    ### create train/validation/test sets ###\n",
    "    #########################################\n",
    "    # NOTE: Each time you run this cell, you'll re-shuffle the data. The ordering will be the same due to \n",
    "    # the random seed generator \n",
    "    tf.random.set_seed(1234)\n",
    "    np.random.seed(1234)\n",
    "    shuffle = np.random.permutation(np.arange(images.shape[0]))\n",
    "    images, y = images[shuffle], y[shuffle]\n",
    "    \n",
    "    splits = np.multiply(len(images_update), split).astype(int)\n",
    "    X_train, X_val, X_test = np.split(images_update, [splits[0], splits[0]+splits[1]])\n",
    "    y_train, y_val, y_test = np.split(y_update, [splits[0], splits[0]+splits[1]])\n",
    "    \n",
    "    ## image transformation on training, validation, and test data ###\n",
    "    ##################################################################\n",
    "#     image resize (if the resize is different than (32, 128))\n",
    "#     X_train = tf.image.resize(X_train, size=IMAGE_SIZE)\n",
    "#     X_val = tf.image.resize(X_val, size=IMAGE_SIZE)\n",
    "#     X_test = tf.image.resize(X_test, size=IMAGE_SIZE)\n",
    "    \n",
    "    # rescale image to [0,1], i.e., greyscale\n",
    "    X_train = tf.image.rgb_to_grayscale(X_train)/255.0\n",
    "    X_val = tf.image.rgb_to_grayscale(X_val)/255.0\n",
    "    X_test = tf.image.rgb_to_grayscale(X_test)/255.0\n",
    "    \n",
    "    ### image augmentation on training data ###\n",
    "    ###########################################\n",
    "    # adjust brightness\n",
    "    X_train_augm = tf.image.adjust_brightness(X_train, delta=DELTA)\n",
    "    \n",
    "    # adjust contrast\n",
    "    X_train_augm = tf.image.adjust_contrast(X_train_augm, contrast_factor=CONTRAST_FACTOR)\n",
    "\n",
    "    # random flip\n",
    "    X_train_augm = tf.image.random_flip_left_right(X_train_augm)\n",
    "    \n",
    "    # concatenate original X_train and augmented X_train data\n",
    "    # double the training size in this step\n",
    "    X_train = tf.concat([X_train, X_train_augm],axis=0)\n",
    "    \n",
    "    # concatenate y_train (note the label is preserved)\n",
    "    y_train_augm = y_train\n",
    "    y_train = tf.concat([y_train, y_train_augm],axis=0)\n",
    "    \n",
    "    # shuffle X_train and y_train, i.e., shuffle two tensors in the same order\n",
    "    shuffle = tf.random.shuffle(tf.range(tf.shape(X_train)[0], dtype=tf.int32))\n",
    "    X_train = tf.gather(X_train, shuffle)\n",
    "    y_train = tf.gather(y_train, shuffle).numpy() #also transforms y_train to numpy array\n",
    "    \n",
    "    return X_train, y_train, X_val, y_val, X_test, y_test"
   ]
  },
  {
   "cell_type": "markdown",
   "id": "cefd75c3",
   "metadata": {},
   "source": [
    "### In the preprocess_data_part2 step, X_train size is double from 57872 to 115744, to include the X_train_augm data"
   ]
  },
  {
   "cell_type": "code",
   "execution_count": 54,
   "id": "ffaeeccf",
   "metadata": {},
   "outputs": [
    {
     "name": "stdout",
     "output_type": "stream",
     "text": [
      "X_train shape (115744, 32, 128, 1)\n",
      "y_train shape (115744, 21)\n",
      "X_val shape (19290, 32, 128, 1)\n",
      "y_val shape (19290, 21)\n",
      "X_test shape (19292, 32, 128, 1)\n",
      "y_test shape (19292, 21)\n"
     ]
    }
   ],
   "source": [
    "X_train, y_train, X_val, y_val, X_test, y_test = preprocess_data_part2(\n",
    "    images_update,\n",
    "    y_update,\n",
    "    split=(0.6,0.2,0.2)\n",
    ")\n",
    "\n",
    "print(f\"X_train shape {X_train.shape}\")\n",
    "print(f\"y_train shape {y_train.shape}\")\n",
    "print(f\"X_val shape {X_val.shape}\")\n",
    "print(f\"y_val shape {y_val.shape}\")\n",
    "print(f\"X_test shape {X_test.shape}\")\n",
    "print(f\"y_test shape {y_test.shape}\")"
   ]
  },
  {
   "cell_type": "code",
   "execution_count": 124,
   "id": "c4063261",
   "metadata": {},
   "outputs": [
    {
     "data": {
      "text/plain": [
       "array([55, 56, 52, 71, 59, 78, 78, 78, 78, 78, 78, 78, 78, 78, 78, 78, 78,\n",
       "       78, 78, 78, 78])"
      ]
     },
     "execution_count": 124,
     "metadata": {},
     "output_type": "execute_result"
    }
   ],
   "source": [
    "y_train[0]"
   ]
  },
  {
   "cell_type": "markdown",
   "id": "3b8f9095",
   "metadata": {},
   "source": [
    "#### one-hot encoding the label data"
   ]
  },
  {
   "cell_type": "code",
   "execution_count": 108,
   "id": "beb15f00",
   "metadata": {},
   "outputs": [
    {
     "name": "stdout",
     "output_type": "stream",
     "text": [
      "hello world\n",
      "[7, 4, 11, 11, 14, 26, 22, 14, 17, 11, 3]\n",
      "[[0, 0, 0, 0, 0, 0, 0, 1, 0, 0, 0, 0, 0, 0, 0, 0, 0, 0, 0, 0, 0, 0, 0, 0, 0, 0, 0], [0, 0, 0, 0, 1, 0, 0, 0, 0, 0, 0, 0, 0, 0, 0, 0, 0, 0, 0, 0, 0, 0, 0, 0, 0, 0, 0], [0, 0, 0, 0, 0, 0, 0, 0, 0, 0, 0, 1, 0, 0, 0, 0, 0, 0, 0, 0, 0, 0, 0, 0, 0, 0, 0], [0, 0, 0, 0, 0, 0, 0, 0, 0, 0, 0, 1, 0, 0, 0, 0, 0, 0, 0, 0, 0, 0, 0, 0, 0, 0, 0], [0, 0, 0, 0, 0, 0, 0, 0, 0, 0, 0, 0, 0, 0, 1, 0, 0, 0, 0, 0, 0, 0, 0, 0, 0, 0, 0], [0, 0, 0, 0, 0, 0, 0, 0, 0, 0, 0, 0, 0, 0, 0, 0, 0, 0, 0, 0, 0, 0, 0, 0, 0, 0, 1], [0, 0, 0, 0, 0, 0, 0, 0, 0, 0, 0, 0, 0, 0, 0, 0, 0, 0, 0, 0, 0, 0, 1, 0, 0, 0, 0], [0, 0, 0, 0, 0, 0, 0, 0, 0, 0, 0, 0, 0, 0, 1, 0, 0, 0, 0, 0, 0, 0, 0, 0, 0, 0, 0], [0, 0, 0, 0, 0, 0, 0, 0, 0, 0, 0, 0, 0, 0, 0, 0, 0, 1, 0, 0, 0, 0, 0, 0, 0, 0, 0], [0, 0, 0, 0, 0, 0, 0, 0, 0, 0, 0, 1, 0, 0, 0, 0, 0, 0, 0, 0, 0, 0, 0, 0, 0, 0, 0], [0, 0, 0, 1, 0, 0, 0, 0, 0, 0, 0, 0, 0, 0, 0, 0, 0, 0, 0, 0, 0, 0, 0, 0, 0, 0, 0]]\n",
      "h\n"
     ]
    }
   ],
   "source": [
    "\n",
    "# define input string\n",
    "data = 'hello world'\n",
    "print(data)\n",
    "# define universe of possible input values\n",
    "alphabet = 'abcdefghijklmnopqrstuvwxyz '\n",
    "# define a mapping of chars to integers\n",
    "char_to_int = dict((c, i) for i, c in enumerate(alphabet))\n",
    "int_to_char = dict((i, c) for i, c in enumerate(alphabet))\n",
    "# integer encode input data\n",
    "integer_encoded = [char_to_int[char] for char in data]\n",
    "print(integer_encoded)\n",
    "# one hot encode\n",
    "onehot_encoded = list()\n",
    "for value in integer_encoded:\n",
    "\tletter = [0 for _ in range(len(alphabet))]\n",
    "\tletter[value] = 1\n",
    "\tonehot_encoded.append(letter)\n",
    "print(onehot_encoded)\n",
    "# invert encoding\n",
    "inverted = int_to_char[argmax(onehot_encoded[0])]\n",
    "print(inverted)"
   ]
  },
  {
   "cell_type": "markdown",
   "id": "0b6a1ee1",
   "metadata": {},
   "source": [
    "## Experiment Keras the fully-connected (dense) deep Neural Network Model"
   ]
  },
  {
   "cell_type": "code",
   "execution_count": 57,
   "id": "b28e0216",
   "metadata": {},
   "outputs": [],
   "source": [
    "def build_model(n_classes,\n",
    "                hidden_layer_sizes=[],\n",
    "                activation='relu',\n",
    "                optimizer='Adam',\n",
    "                learning_rate=0.01):\n",
    "    \"\"\"Build a multi-class logistic regression model using Keras.\n",
    "    Args:\n",
    "    n_classes: Number of output classes in the dataset.\n",
    "    hidden_layer_sizes: A list with the number of units in each hidden layer.\n",
    "    activation: The activation function to use for the hidden layers.\n",
    "    optimizer: The optimizer to use (SGD, Adam).\n",
    "    learning_rate: The desired learning rate for the optimizer.\n",
    "    Returns:\n",
    "    model: A tf.keras model (graph).\n",
    "    \"\"\"\n",
    "    tf.keras.backend.clear_session()\n",
    "    np.random.seed(0)\n",
    "    tf.random.set_seed(0)\n",
    "    \n",
    "    # firs5t layer: input shape of the dataset\n",
    "    input1 = keras.layers.Input(shape=(32, 128, 1), name='Input')\n",
    "    \n",
    "    # second layer: flatten to transforms the format of the images to a 1D array of 28*28 = 784 pixels\n",
    "    # this layer has no params or weights to learn, it only reformats data\n",
    "    input2 = keras.layers.Flatten(name='Flatten')(input1)\n",
    "    \n",
    "    # add layers based on hidden_layer_sizes\n",
    "    inputs_layer = input2\n",
    "    activation = activation\n",
    "    for i in range(len(hidden_layer_sizes)):\n",
    "        input = keras.layers.Dense(hidden_layer_sizes[i], activation = activation, name=f'Hidden_Layer_{i}')(inputs_layer)\n",
    "        inputs_layer = input  \n",
    "  \n",
    "    # next layer: dropout. Makes it so some of the nodes in a given layer don’t pass on their information to the next layer\n",
    "    input_dropout = keras.layers.Dropout(rate=0.3, name='Dropout')(inputs_layer) \n",
    "    \n",
    "    #the last layer is the output layer\n",
    "    out = keras.layers.Dense(units=n_classes, activation= None, name='Layer_output')(input_dropout)\n",
    "    \n",
    "    # Alternative:  out = keras.layers.Dense(units=n_classes, activation='softmax', name='Layer_output')(input_dropout) \n",
    "    # if activation is set to \"softmax\", then take out (from_logits=True) in the model.compile function\n",
    "    \n",
    "    model = keras.models.Model(inputs=input1, outputs=out)\n",
    "   \n",
    "    if optimizer=='SGD':\n",
    "        optimizers = keras.optimizers.SGD(learning_rate=0.01)\n",
    "    elif optimizer=='Adam':\n",
    "        optimizers = keras.optimizers.Adam(learning_rate=0.01)\n",
    "    else:\n",
    "        raise ValueError('Invalid optimizer: %s' % optimizer)\n",
    "    \n",
    "    model.compile(\n",
    "        loss=keras.losses.CategoricalCrossentropy(from_logits=True),\n",
    "        optimizer=optimizers,\n",
    "        metrics=['accuracy'])\n",
    "    \n",
    "    return model"
   ]
  },
  {
   "cell_type": "code",
   "execution_count": 59,
   "id": "555d43bc",
   "metadata": {},
   "outputs": [
    {
     "name": "stdout",
     "output_type": "stream",
     "text": [
      "Model: \"model\"\n",
      "_________________________________________________________________\n",
      " Layer (type)                Output Shape              Param #   \n",
      "=================================================================\n",
      " Input (InputLayer)          [(None, 32, 128, 1)]      0         \n",
      "                                                                 \n",
      " Flatten (Flatten)           (None, 4096)              0         \n",
      "                                                                 \n",
      " Hidden_Layer_0 (Dense)      (None, 2048)              8390656   \n",
      "                                                                 \n",
      " Hidden_Layer_1 (Dense)      (None, 1024)              2098176   \n",
      "                                                                 \n",
      " Hidden_Layer_2 (Dense)      (None, 256)               262400    \n",
      "                                                                 \n",
      " Dropout (Dropout)           (None, 256)               0         \n",
      "                                                                 \n",
      " Layer_output (Dense)        (None, 21)                5397      \n",
      "                                                                 \n",
      "=================================================================\n",
      "Total params: 10,756,629\n",
      "Trainable params: 10,756,629\n",
      "Non-trainable params: 0\n",
      "_________________________________________________________________\n"
     ]
    }
   ],
   "source": [
    "#show model summmary\n",
    "# model = build_model(n_classes = 21, hidden_layer_sizes=[2048, 1024,512, 256,64])\n",
    "model = build_model(n_classes = 21, hidden_layer_sizes=[2048,1024,256])\n",
    "model.summary()"
   ]
  },
  {
   "cell_type": "code",
   "execution_count": 60,
   "id": "591668ed",
   "metadata": {},
   "outputs": [
    {
     "data": {
      "text/plain": [
       "TensorShape([115744, 32, 128, 1])"
      ]
     },
     "execution_count": 60,
     "metadata": {},
     "output_type": "execute_result"
    }
   ],
   "source": [
    "X_train.shape"
   ]
  },
  {
   "cell_type": "code",
   "execution_count": 61,
   "id": "4cc1f63e",
   "metadata": {},
   "outputs": [],
   "source": [
    "X_train_mini = np.array(X_train[:8000])\n",
    "y_train_mini = np.array(y_train[:8000])"
   ]
  },
  {
   "cell_type": "code",
   "execution_count": 62,
   "id": "1b67c024",
   "metadata": {},
   "outputs": [
    {
     "name": "stdout",
     "output_type": "stream",
     "text": [
      "Epoch 1/5\n",
      "105/105 [==============================] - 16s 144ms/step - loss: 2010891681792.0000 - accuracy: 0.0281 - val_loss: 7727106490368.0000 - val_accuracy: 0.0238\n",
      "Epoch 2/5\n",
      "105/105 [==============================] - 15s 142ms/step - loss: 64764004794368.0000 - accuracy: 0.0274 - val_loss: 118257495310336.0000 - val_accuracy: 0.0238\n",
      "Epoch 3/5\n",
      "105/105 [==============================] - 15s 144ms/step - loss: 390339814752256.0000 - accuracy: 0.0281 - val_loss: 513365193523200.0000 - val_accuracy: 0.0238\n",
      "Epoch 4/5\n",
      "105/105 [==============================] - 15s 144ms/step - loss: 1227051084283904.0000 - accuracy: 0.0277 - val_loss: 1351199798329344.0000 - val_accuracy: 0.0238\n",
      "Epoch 5/5\n",
      "105/105 [==============================] - 15s 144ms/step - loss: 2789928345796608.0000 - accuracy: 0.0278 - val_loss: 2804622234222592.0000 - val_accuracy: 0.0238\n"
     ]
    }
   ],
   "source": [
    "tf.random.set_seed(1234)\n",
    "np.random.seed(1234)\n",
    "\n",
    "history_img= model.fit(x=X_train,\n",
    "                y=y_train,\n",
    "                validation_split=0.1, # set 10% of train data for validation\n",
    "                batch_size=1000,\n",
    "#                 batch_size=len(X_train),\n",
    "                epochs=5,\n",
    "#                 verbose=0  # fit quitely \n",
    "               )"
   ]
  },
  {
   "cell_type": "code",
   "execution_count": 63,
   "id": "ef6b3be1",
   "metadata": {},
   "outputs": [
    {
     "data": {
      "image/png": "[encoded data removed]",
      "text/plain": [
       "<Figure size 864x288 with 2 Axes>"
      ]
     },
     "metadata": {
      "needs_background": "light"
     },
     "output_type": "display_data"
    }
   ],
   "source": [
    "hist_img = history_img.history\n",
    "x_arr_img = np.arange(len(hist_img['loss'])) + 1\n",
    "\n",
    "fig = plt.figure(figsize=(12, 4))\n",
    "ax = fig.add_subplot(1, 2, 1)\n",
    "ax.plot(x_arr_img, hist_img['loss'], '-o', label='Train loss')\n",
    "ax.plot(x_arr_img, hist_img['val_loss'], '--<', label='Validation loss')\n",
    "ax.legend(fontsize=15)\n",
    "ax.set_xlabel('Epoch', size=15)\n",
    "ax.set_ylabel('Loss', size=15)\n",
    "\n",
    "ax = fig.add_subplot(1, 2, 2)\n",
    "ax.plot(x_arr_img, hist_img['accuracy'], '-o', label='Train acc.')\n",
    "ax.plot(x_arr_img, hist_img['val_accuracy'], '--<', label='Validation acc.')\n",
    "ax.legend(fontsize=15)\n",
    "ax.set_xlabel('Epoch', size=15)\n",
    "ax.set_ylabel('Accuracy', size=15)\n",
    "ax.set_ylim(0,1)\n",
    "plt.show()"
   ]
  },
  {
   "cell_type": "code",
   "execution_count": 64,
   "id": "90c6651e",
   "metadata": {},
   "outputs": [
    {
     "data": {
      "text/plain": [
       "0.013580759055912495"
      ]
     },
     "execution_count": 64,
     "metadata": {},
     "output_type": "execute_result"
    }
   ],
   "source": [
    "test_accuracy = model.evaluate(x=X_test, y=y_test, verbose=0, return_dict=True)['accuracy']\n",
    "test_accuracy"
   ]
  },
  {
   "cell_type": "code",
   "execution_count": 69,
   "id": "de853203",
   "metadata": {},
   "outputs": [
    {
     "name": "stdout",
     "output_type": "stream",
     "text": [
      "1/1 [==============================] - 0s 18ms/step\n"
     ]
    },
    {
     "data": {
      "text/plain": [
       "array([[1.2068078e+15, 1.2069661e+15, 1.2087865e+15, 1.2070334e+15,\n",
       "        1.2057870e+15, 1.2087321e+15, 1.2089419e+15, 1.2097644e+15,\n",
       "        1.2081975e+15, 1.2083713e+15, 1.2098868e+15, 1.2094597e+15,\n",
       "        1.2075764e+15, 1.2088008e+15, 1.2096916e+15, 1.2095792e+15,\n",
       "        1.2087408e+15, 1.2085049e+15, 1.2082450e+15, 1.2088238e+15,\n",
       "        1.2082452e+15]], dtype=float32)"
      ]
     },
     "execution_count": 69,
     "metadata": {},
     "output_type": "execute_result"
    }
   ],
   "source": [
    "model.predict(X_train[0:1])"
   ]
  },
  {
   "cell_type": "code",
   "execution_count": 66,
   "id": "ae40064b",
   "metadata": {},
   "outputs": [
    {
     "data": {
      "text/plain": [
       "array([[55, 56, 52, 71, 59, 78, 78, 78, 78, 78, 78, 78, 78, 78, 78, 78,\n",
       "        78, 78, 78, 78, 78],\n",
       "       [53, 56, 78, 78, 78, 78, 78, 78, 78, 78, 78, 78, 78, 78, 78, 78,\n",
       "        78, 78, 78, 78, 78]])"
      ]
     },
     "execution_count": 66,
     "metadata": {},
     "output_type": "execute_result"
    }
   ],
   "source": [
    "y_train[0:2]"
   ]
  },
  {
   "cell_type": "code",
   "execution_count": 201,
   "id": "2dc041ab",
   "metadata": {},
   "outputs": [
    {
     "name": "stdout",
     "output_type": "stream",
     "text": [
      "******************************************\n",
      "\n",
      "\n",
      "Train and Evaluate with: Hidden_layer:[]\\Activation:tanh\\Optimizer:Adam\\Learning_Rate: 0.01\\ epochs:10\n"
     ]
    },
    {
     "data": {
      "image/png": "[encoded data removed]",
      "text/plain": [
       "<Figure size 432x288 with 1 Axes>"
      ]
     },
     "metadata": {
      "needs_background": "light"
     },
     "output_type": "display_data"
    },
    {
     "name": "stdout",
     "output_type": "stream",
     "text": [
      "Taining time is 31.7 in seconds. Total trainable parameters are: 86037. Test accuracy: 0.0590\n"
     ]
    }
   ],
   "source": [
    "def train_and_evaluate(hidden_layer_sizes=[],\n",
    "                       activation='tanh',\n",
    "                       optimizer='Adam',\n",
    "                       learning_rate=0.01,\n",
    "                       num_epochs=10,\n",
    "                       batch_size= 1000):\n",
    "  \"\"\" train and evaluate\"\"\"\n",
    "  start_line = f'Hidden_layer:{hidden_layer_sizes}\\\\Activation:{activation}\\\\Optimizer:{optimizer}\\\\batch_size:{batch_size}\\\\Learning_Rate: {learning_rate}\\\\ epochs:{num_epochs}'\n",
    "  print(f'******************************************')\n",
    "  print(f'\\n\\nTrain and Evaluate with: {start_line}')\n",
    "\n",
    "  start_time = time.time()\n",
    "  # Build the model.\n",
    "  model = build_model(n_classes=21,\n",
    "                      hidden_layer_sizes=hidden_layer_sizes,\n",
    "                      activation=activation,\n",
    "                      optimizer=optimizer,\n",
    "                      learning_rate=learning_rate)\n",
    "\n",
    "  # Train the model.\n",
    "  history = model.fit(\n",
    "    x=X_train,\n",
    "    y=y_train,\n",
    "    epochs=num_epochs,\n",
    "    batch_size=batch_size,\n",
    "    validation_split=0.1,\n",
    "    verbose=0)\n",
    "\n",
    "  # Retrieve the training metrics (after each train epoch) and the final test\n",
    "  # accuracy.\n",
    "  train_accuracy = history.history['accuracy']\n",
    "  val_accuracy = history.history['val_accuracy']\n",
    "  plt.plot(train_accuracy, label='train_accuracy')\n",
    "  plt.plot(val_accuracy, label='validation accuracy')\n",
    "  plt.xticks(range(num_epochs))\n",
    "  plt.xlabel('Train epochs')\n",
    "  plt.legend()\n",
    "  plt.show()\n",
    "\n",
    "  test_accuracy = model.evaluate(x=X_test, y=y_test, verbose=0,\n",
    "                                 return_dict=True)['accuracy']\n",
    "  total_train_param = sum(count_params(layer) for layer in model.trainable_weights)\n",
    "  \n",
    "  time_elapsed = round(time.time() - start_time, 1)\n",
    "  print(f'Taining time is {time_elapsed} in seconds. Total trainable parameters are: {total_train_param}. Test accuracy: %1.4f' %test_accuracy)\n",
    "\n",
    "  return test_accuracy\n",
    "\n",
    "# print('Test Accuracy: %1.4f' %train_and_evaluate())\n",
    "\n",
    "run_1 = train_and_evaluate()"
   ]
  },
  {
   "cell_type": "markdown",
   "id": "921f2182",
   "metadata": {},
   "source": [
    "### Run experiments "
   ]
  },
  {
   "cell_type": "code",
   "execution_count": null,
   "id": "9af050e5",
   "metadata": {},
   "outputs": [],
   "source": [
    "hidden_sizes =[[],[1024, 512],[2048,1024, 512]]\n",
    "activation =['tanh','relu']\n",
    "# optimizer = ['SGD','Adam']\n",
    "optimizer = ['Adam']\n",
    "num_epochs= [10, 20]\n",
    "batch_size= [1000, 2000]\n",
    "\n",
    "for i in hidden_sizes:\n",
    "    for a in activation:\n",
    "        for o in optimizer:\n",
    "            for n in num_epochs:\n",
    "                for b in batch_size:\n",
    "                    train_and_evaluate(hidden_layer_sizes=i,\n",
    "                                       activation=a,\n",
    "                                       optimizer=o,\n",
    "                                       learning_rate=0.01,\n",
    "                                       num_epochs=n,\n",
    "                                      batch_size=b)   "
   ]
  },
  {
   "cell_type": "markdown",
   "id": "910afa9a",
   "metadata": {},
   "source": [
    "### Experiment CNN Model"
   ]
  },
  {
   "cell_type": "code",
   "execution_count": 117,
   "id": "d5d9eebf",
   "metadata": {},
   "outputs": [
    {
     "name": "stdout",
     "output_type": "stream",
     "text": [
      "Model: \"sequential_3\"\n",
      "_________________________________________________________________\n",
      " Layer (type)                Output Shape              Param #   \n",
      "=================================================================\n",
      " conv_1 (Conv2D)             (None, 32, 128, 32)       832       \n",
      "                                                                 \n",
      " pool_1 (MaxPooling2D)       (None, 16, 64, 32)        0         \n",
      "                                                                 \n",
      " conv_2 (Conv2D)             (None, 16, 64, 64)        51264     \n",
      "                                                                 \n",
      " pool_2 (MaxPooling2D)       (None, 8, 32, 64)         0         \n",
      "                                                                 \n",
      " flatten_3 (Flatten)         (None, 16384)             0         \n",
      "                                                                 \n",
      " fc_1 (Dense)                (None, 1024)              16778240  \n",
      "                                                                 \n",
      " dropout_3 (Dropout)         (None, 1024)              0         \n",
      "                                                                 \n",
      " fc_2 (Dense)                (None, 21)                21525     \n",
      "                                                                 \n",
      "=================================================================\n",
      "Total params: 16,851,861\n",
      "Trainable params: 16,851,861\n",
      "Non-trainable params: 0\n",
      "_________________________________________________________________\n"
     ]
    }
   ],
   "source": [
    "model = tf.keras.Sequential()\n",
    "\n",
    "model.add(tf.keras.layers.Conv2D(\n",
    "    filters=32, kernel_size=(5, 5),\n",
    "    strides=(1, 1), padding='same',\n",
    "    data_format='channels_last',\n",
    "    name='conv_1', activation='relu'))\n",
    "\n",
    "model.add(tf.keras.layers.MaxPool2D(\n",
    "    pool_size=(2, 2), name='pool_1'))\n",
    "    \n",
    "model.add(tf.keras.layers.Conv2D(\n",
    "    filters=64, kernel_size=(5, 5),\n",
    "    strides=(1, 1), padding='same',\n",
    "    name='conv_2', activation='relu'))\n",
    "\n",
    "model.add(tf.keras.layers.MaxPool2D(pool_size=(2, 2), name='pool_2'))\n",
    "\n",
    "model.compute_output_shape(input_shape=(16, 32, 128, 1))\n",
    "\n",
    "model.add(tf.keras.layers.Flatten())\n",
    "\n",
    "# chose 16 arbitrarily as the batch dimension\n",
    "model.compute_output_shape(input_shape=(16, 32, 128, 1))\n",
    "\n",
    "model.add(tf.keras.layers.Dense(\n",
    "    units=1024, name='fc_1', \n",
    "    activation='relu'))\n",
    "\n",
    "model.add(tf.keras.layers.Dropout(\n",
    "    rate=0.5))\n",
    "    \n",
    "model.add(tf.keras.layers.Dense(\n",
    "    units=21, name='fc_2',\n",
    "    activation='softmax'))\n",
    "\n",
    "tf.random.set_seed(1)\n",
    "model.build(input_shape=(None, 32, 128, 1))\n",
    "\n",
    "model.compute_output_shape(input_shape=(16, 32, 128, 1))\n",
    "\n",
    "model.summary()"
   ]
  },
  {
   "cell_type": "code",
   "execution_count": 120,
   "id": "dd85d5d5",
   "metadata": {},
   "outputs": [
    {
     "name": "stdout",
     "output_type": "stream",
     "text": [
      "Epoch 1/20\n",
      "3256/3256 [==============================] - 497s 152ms/step - loss: 4184059966128128.0000 - accuracy: 0.0075 - val_loss: 5828136939814912.0000 - val_accuracy: 0.0017\n",
      "Epoch 2/20\n",
      "3256/3256 [==============================] - 23963s 7s/step - loss: 10038924487426048.0000 - accuracy: 0.0069 - val_loss: 12980695764828160.0000 - val_accuracy: 0.0017\n",
      "Epoch 3/20\n",
      " 163/3256 [>.............................] - ETA: 7:50 - loss: 14452977267900416.0000 - accuracy: 0.0048"
     ]
    },
    {
     "ename": "KeyboardInterrupt",
     "evalue": "",
     "output_type": "error",
     "traceback": [
      "\u001b[1;31m---------------------------------------------------------------------------\u001b[0m",
      "\u001b[1;31mKeyboardInterrupt\u001b[0m                         Traceback (most recent call last)",
      "\u001b[1;32m~\\AppData\\Local\\Temp/ipykernel_33660/2250312377.py\u001b[0m in \u001b[0;36m<module>\u001b[1;34m\u001b[0m\n\u001b[0;32m      7\u001b[0m               metrics=['accuracy']) # same as `tf.keras.metrics.SparseCategoricalAccuracy(name='accuracy')`\n\u001b[0;32m      8\u001b[0m \u001b[1;33m\u001b[0m\u001b[0m\n\u001b[1;32m----> 9\u001b[1;33m history = model.fit(x=X_train, y=y_train, epochs=NUM_EPOCHS, validation_split=0.1,\n\u001b[0m\u001b[0;32m     10\u001b[0m \u001b[1;31m#                     validation_data=mnist_valid,\u001b[0m\u001b[1;33m\u001b[0m\u001b[1;33m\u001b[0m\u001b[0m\n\u001b[0;32m     11\u001b[0m                     shuffle=True)\n",
      "\u001b[1;32m~\\anaconda3\\lib\\site-packages\\keras\\utils\\traceback_utils.py\u001b[0m in \u001b[0;36merror_handler\u001b[1;34m(*args, **kwargs)\u001b[0m\n\u001b[0;32m     62\u001b[0m     \u001b[0mfiltered_tb\u001b[0m \u001b[1;33m=\u001b[0m \u001b[1;32mNone\u001b[0m\u001b[1;33m\u001b[0m\u001b[1;33m\u001b[0m\u001b[0m\n\u001b[0;32m     63\u001b[0m     \u001b[1;32mtry\u001b[0m\u001b[1;33m:\u001b[0m\u001b[1;33m\u001b[0m\u001b[1;33m\u001b[0m\u001b[0m\n\u001b[1;32m---> 64\u001b[1;33m       \u001b[1;32mreturn\u001b[0m \u001b[0mfn\u001b[0m\u001b[1;33m(\u001b[0m\u001b[1;33m*\u001b[0m\u001b[0margs\u001b[0m\u001b[1;33m,\u001b[0m \u001b[1;33m**\u001b[0m\u001b[0mkwargs\u001b[0m\u001b[1;33m)\u001b[0m\u001b[1;33m\u001b[0m\u001b[1;33m\u001b[0m\u001b[0m\n\u001b[0m\u001b[0;32m     65\u001b[0m     \u001b[1;32mexcept\u001b[0m \u001b[0mException\u001b[0m \u001b[1;32mas\u001b[0m \u001b[0me\u001b[0m\u001b[1;33m:\u001b[0m  \u001b[1;31m# pylint: disable=broad-except\u001b[0m\u001b[1;33m\u001b[0m\u001b[1;33m\u001b[0m\u001b[0m\n\u001b[0;32m     66\u001b[0m       \u001b[0mfiltered_tb\u001b[0m \u001b[1;33m=\u001b[0m \u001b[0m_process_traceback_frames\u001b[0m\u001b[1;33m(\u001b[0m\u001b[0me\u001b[0m\u001b[1;33m.\u001b[0m\u001b[0m__traceback__\u001b[0m\u001b[1;33m)\u001b[0m\u001b[1;33m\u001b[0m\u001b[1;33m\u001b[0m\u001b[0m\n",
      "\u001b[1;32m~\\anaconda3\\lib\\site-packages\\keras\\engine\\training.py\u001b[0m in \u001b[0;36mfit\u001b[1;34m(self, x, y, batch_size, epochs, verbose, callbacks, validation_split, validation_data, shuffle, class_weight, sample_weight, initial_epoch, steps_per_epoch, validation_steps, validation_batch_size, validation_freq, max_queue_size, workers, use_multiprocessing)\u001b[0m\n\u001b[0;32m   1407\u001b[0m                 _r=1):\n\u001b[0;32m   1408\u001b[0m               \u001b[0mcallbacks\u001b[0m\u001b[1;33m.\u001b[0m\u001b[0mon_train_batch_begin\u001b[0m\u001b[1;33m(\u001b[0m\u001b[0mstep\u001b[0m\u001b[1;33m)\u001b[0m\u001b[1;33m\u001b[0m\u001b[1;33m\u001b[0m\u001b[0m\n\u001b[1;32m-> 1409\u001b[1;33m               \u001b[0mtmp_logs\u001b[0m \u001b[1;33m=\u001b[0m \u001b[0mself\u001b[0m\u001b[1;33m.\u001b[0m\u001b[0mtrain_function\u001b[0m\u001b[1;33m(\u001b[0m\u001b[0miterator\u001b[0m\u001b[1;33m)\u001b[0m\u001b[1;33m\u001b[0m\u001b[1;33m\u001b[0m\u001b[0m\n\u001b[0m\u001b[0;32m   1410\u001b[0m               \u001b[1;32mif\u001b[0m \u001b[0mdata_handler\u001b[0m\u001b[1;33m.\u001b[0m\u001b[0mshould_sync\u001b[0m\u001b[1;33m:\u001b[0m\u001b[1;33m\u001b[0m\u001b[1;33m\u001b[0m\u001b[0m\n\u001b[0;32m   1411\u001b[0m                 \u001b[0mcontext\u001b[0m\u001b[1;33m.\u001b[0m\u001b[0masync_wait\u001b[0m\u001b[1;33m(\u001b[0m\u001b[1;33m)\u001b[0m\u001b[1;33m\u001b[0m\u001b[1;33m\u001b[0m\u001b[0m\n",
      "\u001b[1;32m~\\anaconda3\\lib\\site-packages\\tensorflow\\python\\util\\traceback_utils.py\u001b[0m in \u001b[0;36merror_handler\u001b[1;34m(*args, **kwargs)\u001b[0m\n\u001b[0;32m    148\u001b[0m     \u001b[0mfiltered_tb\u001b[0m \u001b[1;33m=\u001b[0m \u001b[1;32mNone\u001b[0m\u001b[1;33m\u001b[0m\u001b[1;33m\u001b[0m\u001b[0m\n\u001b[0;32m    149\u001b[0m     \u001b[1;32mtry\u001b[0m\u001b[1;33m:\u001b[0m\u001b[1;33m\u001b[0m\u001b[1;33m\u001b[0m\u001b[0m\n\u001b[1;32m--> 150\u001b[1;33m       \u001b[1;32mreturn\u001b[0m \u001b[0mfn\u001b[0m\u001b[1;33m(\u001b[0m\u001b[1;33m*\u001b[0m\u001b[0margs\u001b[0m\u001b[1;33m,\u001b[0m \u001b[1;33m**\u001b[0m\u001b[0mkwargs\u001b[0m\u001b[1;33m)\u001b[0m\u001b[1;33m\u001b[0m\u001b[1;33m\u001b[0m\u001b[0m\n\u001b[0m\u001b[0;32m    151\u001b[0m     \u001b[1;32mexcept\u001b[0m \u001b[0mException\u001b[0m \u001b[1;32mas\u001b[0m \u001b[0me\u001b[0m\u001b[1;33m:\u001b[0m\u001b[1;33m\u001b[0m\u001b[1;33m\u001b[0m\u001b[0m\n\u001b[0;32m    152\u001b[0m       \u001b[0mfiltered_tb\u001b[0m \u001b[1;33m=\u001b[0m \u001b[0m_process_traceback_frames\u001b[0m\u001b[1;33m(\u001b[0m\u001b[0me\u001b[0m\u001b[1;33m.\u001b[0m\u001b[0m__traceback__\u001b[0m\u001b[1;33m)\u001b[0m\u001b[1;33m\u001b[0m\u001b[1;33m\u001b[0m\u001b[0m\n",
      "\u001b[1;32m~\\anaconda3\\lib\\site-packages\\tensorflow\\python\\eager\\def_function.py\u001b[0m in \u001b[0;36m__call__\u001b[1;34m(self, *args, **kwds)\u001b[0m\n\u001b[0;32m    913\u001b[0m \u001b[1;33m\u001b[0m\u001b[0m\n\u001b[0;32m    914\u001b[0m       \u001b[1;32mwith\u001b[0m \u001b[0mOptionalXlaContext\u001b[0m\u001b[1;33m(\u001b[0m\u001b[0mself\u001b[0m\u001b[1;33m.\u001b[0m\u001b[0m_jit_compile\u001b[0m\u001b[1;33m)\u001b[0m\u001b[1;33m:\u001b[0m\u001b[1;33m\u001b[0m\u001b[1;33m\u001b[0m\u001b[0m\n\u001b[1;32m--> 915\u001b[1;33m         \u001b[0mresult\u001b[0m \u001b[1;33m=\u001b[0m \u001b[0mself\u001b[0m\u001b[1;33m.\u001b[0m\u001b[0m_call\u001b[0m\u001b[1;33m(\u001b[0m\u001b[1;33m*\u001b[0m\u001b[0margs\u001b[0m\u001b[1;33m,\u001b[0m \u001b[1;33m**\u001b[0m\u001b[0mkwds\u001b[0m\u001b[1;33m)\u001b[0m\u001b[1;33m\u001b[0m\u001b[1;33m\u001b[0m\u001b[0m\n\u001b[0m\u001b[0;32m    916\u001b[0m \u001b[1;33m\u001b[0m\u001b[0m\n\u001b[0;32m    917\u001b[0m       \u001b[0mnew_tracing_count\u001b[0m \u001b[1;33m=\u001b[0m \u001b[0mself\u001b[0m\u001b[1;33m.\u001b[0m\u001b[0mexperimental_get_tracing_count\u001b[0m\u001b[1;33m(\u001b[0m\u001b[1;33m)\u001b[0m\u001b[1;33m\u001b[0m\u001b[1;33m\u001b[0m\u001b[0m\n",
      "\u001b[1;32m~\\anaconda3\\lib\\site-packages\\tensorflow\\python\\eager\\def_function.py\u001b[0m in \u001b[0;36m_call\u001b[1;34m(self, *args, **kwds)\u001b[0m\n\u001b[0;32m    945\u001b[0m       \u001b[1;31m# In this case we have created variables on the first call, so we run the\u001b[0m\u001b[1;33m\u001b[0m\u001b[1;33m\u001b[0m\u001b[0m\n\u001b[0;32m    946\u001b[0m       \u001b[1;31m# defunned version which is guaranteed to never create variables.\u001b[0m\u001b[1;33m\u001b[0m\u001b[1;33m\u001b[0m\u001b[0m\n\u001b[1;32m--> 947\u001b[1;33m       \u001b[1;32mreturn\u001b[0m \u001b[0mself\u001b[0m\u001b[1;33m.\u001b[0m\u001b[0m_stateless_fn\u001b[0m\u001b[1;33m(\u001b[0m\u001b[1;33m*\u001b[0m\u001b[0margs\u001b[0m\u001b[1;33m,\u001b[0m \u001b[1;33m**\u001b[0m\u001b[0mkwds\u001b[0m\u001b[1;33m)\u001b[0m  \u001b[1;31m# pylint: disable=not-callable\u001b[0m\u001b[1;33m\u001b[0m\u001b[1;33m\u001b[0m\u001b[0m\n\u001b[0m\u001b[0;32m    948\u001b[0m     \u001b[1;32melif\u001b[0m \u001b[0mself\u001b[0m\u001b[1;33m.\u001b[0m\u001b[0m_stateful_fn\u001b[0m \u001b[1;32mis\u001b[0m \u001b[1;32mnot\u001b[0m \u001b[1;32mNone\u001b[0m\u001b[1;33m:\u001b[0m\u001b[1;33m\u001b[0m\u001b[1;33m\u001b[0m\u001b[0m\n\u001b[0;32m    949\u001b[0m       \u001b[1;31m# Release the lock early so that multiple threads can perform the call\u001b[0m\u001b[1;33m\u001b[0m\u001b[1;33m\u001b[0m\u001b[0m\n",
      "\u001b[1;32m~\\anaconda3\\lib\\site-packages\\tensorflow\\python\\eager\\function.py\u001b[0m in \u001b[0;36m__call__\u001b[1;34m(self, *args, **kwargs)\u001b[0m\n\u001b[0;32m   2451\u001b[0m       (graph_function,\n\u001b[0;32m   2452\u001b[0m        filtered_flat_args) = self._maybe_define_function(args, kwargs)\n\u001b[1;32m-> 2453\u001b[1;33m     return graph_function._call_flat(\n\u001b[0m\u001b[0;32m   2454\u001b[0m         filtered_flat_args, captured_inputs=graph_function.captured_inputs)  # pylint: disable=protected-access\n\u001b[0;32m   2455\u001b[0m \u001b[1;33m\u001b[0m\u001b[0m\n",
      "\u001b[1;32m~\\anaconda3\\lib\\site-packages\\tensorflow\\python\\eager\\function.py\u001b[0m in \u001b[0;36m_call_flat\u001b[1;34m(self, args, captured_inputs, cancellation_manager)\u001b[0m\n\u001b[0;32m   1858\u001b[0m         and executing_eagerly):\n\u001b[0;32m   1859\u001b[0m       \u001b[1;31m# No tape is watching; skip to running the function.\u001b[0m\u001b[1;33m\u001b[0m\u001b[1;33m\u001b[0m\u001b[0m\n\u001b[1;32m-> 1860\u001b[1;33m       return self._build_call_outputs(self._inference_function.call(\n\u001b[0m\u001b[0;32m   1861\u001b[0m           ctx, args, cancellation_manager=cancellation_manager))\n\u001b[0;32m   1862\u001b[0m     forward_backward = self._select_forward_and_backward_functions(\n",
      "\u001b[1;32m~\\anaconda3\\lib\\site-packages\\tensorflow\\python\\eager\\function.py\u001b[0m in \u001b[0;36mcall\u001b[1;34m(self, ctx, args, cancellation_manager)\u001b[0m\n\u001b[0;32m    495\u001b[0m       \u001b[1;32mwith\u001b[0m \u001b[0m_InterpolateFunctionError\u001b[0m\u001b[1;33m(\u001b[0m\u001b[0mself\u001b[0m\u001b[1;33m)\u001b[0m\u001b[1;33m:\u001b[0m\u001b[1;33m\u001b[0m\u001b[1;33m\u001b[0m\u001b[0m\n\u001b[0;32m    496\u001b[0m         \u001b[1;32mif\u001b[0m \u001b[0mcancellation_manager\u001b[0m \u001b[1;32mis\u001b[0m \u001b[1;32mNone\u001b[0m\u001b[1;33m:\u001b[0m\u001b[1;33m\u001b[0m\u001b[1;33m\u001b[0m\u001b[0m\n\u001b[1;32m--> 497\u001b[1;33m           outputs = execute.execute(\n\u001b[0m\u001b[0;32m    498\u001b[0m               \u001b[0mstr\u001b[0m\u001b[1;33m(\u001b[0m\u001b[0mself\u001b[0m\u001b[1;33m.\u001b[0m\u001b[0msignature\u001b[0m\u001b[1;33m.\u001b[0m\u001b[0mname\u001b[0m\u001b[1;33m)\u001b[0m\u001b[1;33m,\u001b[0m\u001b[1;33m\u001b[0m\u001b[1;33m\u001b[0m\u001b[0m\n\u001b[0;32m    499\u001b[0m               \u001b[0mnum_outputs\u001b[0m\u001b[1;33m=\u001b[0m\u001b[0mself\u001b[0m\u001b[1;33m.\u001b[0m\u001b[0m_num_outputs\u001b[0m\u001b[1;33m,\u001b[0m\u001b[1;33m\u001b[0m\u001b[1;33m\u001b[0m\u001b[0m\n",
      "\u001b[1;32m~\\anaconda3\\lib\\site-packages\\tensorflow\\python\\eager\\execute.py\u001b[0m in \u001b[0;36mquick_execute\u001b[1;34m(op_name, num_outputs, inputs, attrs, ctx, name)\u001b[0m\n\u001b[0;32m     52\u001b[0m   \u001b[1;32mtry\u001b[0m\u001b[1;33m:\u001b[0m\u001b[1;33m\u001b[0m\u001b[1;33m\u001b[0m\u001b[0m\n\u001b[0;32m     53\u001b[0m     \u001b[0mctx\u001b[0m\u001b[1;33m.\u001b[0m\u001b[0mensure_initialized\u001b[0m\u001b[1;33m(\u001b[0m\u001b[1;33m)\u001b[0m\u001b[1;33m\u001b[0m\u001b[1;33m\u001b[0m\u001b[0m\n\u001b[1;32m---> 54\u001b[1;33m     tensors = pywrap_tfe.TFE_Py_Execute(ctx._handle, device_name, op_name,\n\u001b[0m\u001b[0;32m     55\u001b[0m                                         inputs, attrs, num_outputs)\n\u001b[0;32m     56\u001b[0m   \u001b[1;32mexcept\u001b[0m \u001b[0mcore\u001b[0m\u001b[1;33m.\u001b[0m\u001b[0m_NotOkStatusException\u001b[0m \u001b[1;32mas\u001b[0m \u001b[0me\u001b[0m\u001b[1;33m:\u001b[0m\u001b[1;33m\u001b[0m\u001b[1;33m\u001b[0m\u001b[0m\n",
      "\u001b[1;31mKeyboardInterrupt\u001b[0m: "
     ]
    }
   ],
   "source": [
    "BATCH_SIZE = 1000\n",
    "NUM_EPOCHS = 20\n",
    "\n",
    "model.compile(optimizer=tf.keras.optimizers.Adam(),\n",
    "              loss=tf.keras.losses.CategoricalCrossentropy(),\n",
    "#               loss=tf.keras.losses.SparseCategoricalCrossentropy(),\n",
    "              metrics=['accuracy']) # same as `tf.keras.metrics.SparseCategoricalAccuracy(name='accuracy')`\n",
    "\n",
    "history = model.fit(x=X_train, y=y_train, epochs=NUM_EPOCHS, validation_split=0.1,\n",
    "#                     validation_data=mnist_valid, \n",
    "                    shuffle=True)"
   ]
  },
  {
   "cell_type": "code",
   "execution_count": null,
   "id": "11bd862a",
   "metadata": {},
   "outputs": [],
   "source": [
    "#graph the loss and accuracy curves of train and validation data\n",
    "hist_cnn = history.history\n",
    "x_arr = np.arange(len(hist_cnn['loss'])) + 1\n",
    "\n",
    "fig = plt.figure(figsize=(12, 4))\n",
    "ax = fig.add_subplot(1, 2, 1)\n",
    "ax.plot(x_arr, hist_cnn['loss'], '-o', label='Train loss')\n",
    "ax.plot(x_arr, hist_cnn['val_loss'], '--<', label='Validation loss')\n",
    "ax.set_xlabel('Epoch', size=15)\n",
    "ax.set_ylabel('Loss', size=15)\n",
    "ax.legend(fontsize=15)\n",
    "ax = fig.add_subplot(1, 2, 2)\n",
    "ax.plot(x_arr, hist_cnn['accuracy'], '-o', label='Train acc.')\n",
    "ax.plot(x_arr, hist_cnn['val_accuracy'], '--<', label='Validation acc.')\n",
    "ax.legend(fontsize=15)\n",
    "ax.set_xlabel('Epoch', size=15)\n",
    "ax.set_ylabel('Accuracy', size=15)\n",
    "\n",
    "#plt.savefig('figures/15_12.png', dpi=300)\n",
    "plt.show()\n",
    "\n",
    "\n"
   ]
  },
  {
   "cell_type": "code",
   "execution_count": null,
   "id": "cba64479",
   "metadata": {},
   "outputs": [],
   "source": [
    "test_results = model.evaluate(X_test.batch(20))\n",
    "print('\\nTest Acc. {:.2f}%'.format(test_results[1]*100))"
   ]
  },
  {
   "cell_type": "code",
   "execution_count": null,
   "id": "7bea52cd",
   "metadata": {},
   "outputs": [],
   "source": [
    "batch_test = next(iter(X_test.batch(12)))\n",
    "\n",
    "preds = model(batch_test[0])\n",
    "\n",
    "tf.print(preds.shape)\n",
    "preds = tf.argmax(preds, axis=1)\n",
    "print(preds)\n",
    "\n",
    "fig = plt.figure(figsize=(12, 4))\n",
    "for i in range(12):\n",
    "    ax = fig.add_subplot(2, 6, i+1)\n",
    "    ax.set_xticks([]); ax.set_yticks([])\n",
    "    img = batch_test[0][i, :, :, 0]\n",
    "    ax.imshow(img, cmap='gray_r')\n",
    "    ax.text(0.9, 0.1, '{}'.format(preds[i]), \n",
    "            size=15, color='blue',\n",
    "            horizontalalignment='center',\n",
    "            verticalalignment='center', \n",
    "            transform=ax.transAxes)\n",
    "    \n",
    "#plt.savefig('figures/15_13.png', dpi=300)\n",
    "plt.show()"
   ]
  },
  {
   "cell_type": "code",
   "execution_count": null,
   "id": "a900492e",
   "metadata": {},
   "outputs": [],
   "source": []
  },
  {
   "cell_type": "code",
   "execution_count": null,
   "id": "ad1d4207",
   "metadata": {},
   "outputs": [],
   "source": []
  },
  {
   "cell_type": "code",
   "execution_count": null,
   "id": "1ace86cc",
   "metadata": {},
   "outputs": [],
   "source": []
  },
  {
   "cell_type": "code",
   "execution_count": null,
   "id": "dd337cd5",
   "metadata": {},
   "outputs": [],
   "source": []
  },
  {
   "cell_type": "code",
   "execution_count": null,
   "id": "40059248",
   "metadata": {},
   "outputs": [],
   "source": []
  },
  {
   "cell_type": "code",
   "execution_count": null,
   "id": "bd31d75f",
   "metadata": {},
   "outputs": [],
   "source": []
  },
  {
   "cell_type": "code",
   "execution_count": null,
   "id": "c277ccb4",
   "metadata": {},
   "outputs": [],
   "source": []
  },
  {
   "cell_type": "code",
   "execution_count": null,
   "id": "9774578e",
   "metadata": {},
   "outputs": [],
   "source": []
  }
 ],
 "metadata": {
  "kernelspec": {
   "display_name": "Python 3 (ipykernel)",
   "language": "python",
   "name": "python3"
  },
  "language_info": {
   "codemirror_mode": {
    "name": "ipython",
    "version": 3
   },
   "file_extension": ".py",
   "mimetype": "text/x-python",
   "name": "python",
   "nbconvert_exporter": "python",
   "pygments_lexer": "ipython3",
   "version": "3.9.7"
  }
 },
 "nbformat": 4,
 "nbformat_minor": 5
}
